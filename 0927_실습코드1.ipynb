{
  "nbformat": 4,
  "nbformat_minor": 0,
  "metadata": {
    "colab": {
      "name": "0927_실습코드1.ipynb",
      "provenance": [],
      "authorship_tag": "ABX9TyM+YJZbIRhG4lPGXNAJr8F1",
      "include_colab_link": true
    },
    "kernelspec": {
      "name": "python3",
      "display_name": "Python 3"
    },
    "language_info": {
      "name": "python"
    }
  },
  "cells": [
    {
      "cell_type": "markdown",
      "metadata": {
        "id": "view-in-github",
        "colab_type": "text"
      },
      "source": [
        "<a href=\"https://colab.research.google.com/github/kim-seung-joo/21-2_python/blob/main/0927_%EC%8B%A4%EC%8A%B5%EC%BD%94%EB%93%9C1.ipynb\" target=\"_parent\"><img src=\"https://colab.research.google.com/assets/colab-badge.svg\" alt=\"Open In Colab\"/></a>"
      ]
    },
    {
      "cell_type": "code",
      "metadata": {
        "colab": {
          "base_uri": "https://localhost:8080/"
        },
        "id": "ndbTny-ynXNc",
        "outputId": "aa00d249-39d0-42a9-faa0-f56637087681"
      },
      "source": [
        "print('강한친구 대한육군')\n",
        "print('강한친구 대한육군')"
      ],
      "execution_count": 40,
      "outputs": [
        {
          "output_type": "stream",
          "name": "stdout",
          "text": [
            "강한친구 대한육군\n",
            "강한친구 대한육군\n"
          ]
        }
      ]
    },
    {
      "cell_type": "code",
      "metadata": {
        "id": "pAW4kv35nK-9"
      },
      "source": [
        "\n",
        "a, b = input().split()\n",
        "a = int(a)\n",
        "b = int(b)\n",
        "print(a-b)"
      ],
      "execution_count": null,
      "outputs": []
    },
    {
      "cell_type": "code",
      "metadata": {
        "colab": {
          "base_uri": "https://localhost:8080/"
        },
        "id": "v2ST3QN1hh-h",
        "outputId": "ec4305fd-b691-48d0-cd31-7bcd991cad8a"
      },
      "source": [
        "#첫째 줄에 A+B, 둘째 줄에 A-B, 셋째 줄에 A*B, 넷째 줄에 A/B, 다섯째 줄에 A%B를 출력한다.\n",
        "\n",
        "A, B = input().split()\n",
        "\n",
        "A = int(A)\n",
        "B = int(B)\n",
        "print(A+B)\n",
        "print(A-B)\n",
        "print(A*B)\n",
        "print(A//B)\n",
        "print(A%B)"
      ],
      "execution_count": 39,
      "outputs": [
        {
          "output_type": "stream",
          "name": "stdout",
          "text": [
            "7 3\n",
            "10\n",
            "4\n",
            "21\n",
            "2\n",
            "1\n"
          ]
        }
      ]
    },
    {
      "cell_type": "code",
      "metadata": {
        "colab": {
          "base_uri": "https://localhost:8080/"
        },
        "id": "qen-vfa1hyuN",
        "outputId": "f0c2aeb0-0b67-4a2c-bf4e-d4daab353ec4"
      },
      "source": [
        "#4 시험 점수를 입력받아 90 ~ 100점은 A, 80 ~ 89점은 B, 70 ~ 79점은 C, 60 ~ 69점은 D, 나머지 점수는 F를 출력하는 프로그램을 작성하시오.\n",
        "score = input()\n",
        "score = int(score)\n",
        "\n",
        "if score>=90 :\n",
        "  print(\"A\")\n",
        "elif score>=80 : \n",
        "  print(\"B\")\n",
        "elif socre>=70 :\n",
        "  print(\"c\")\n",
        "elif socre>=60 :\n",
        "  print(\"D\")\n",
        "else :\n",
        "  print(\"F\")"
      ],
      "execution_count": 65,
      "outputs": [
        {
          "output_type": "stream",
          "name": "stdout",
          "text": [
            "98\n",
            "A\n"
          ]
        }
      ]
    },
    {
      "cell_type": "code",
      "metadata": {
        "colab": {
          "base_uri": "https://localhost:8080/"
        },
        "id": "cmPftaWM_g73",
        "outputId": "a0c388b3-7f89-4515-c3b1-f5c51343e2a1"
      },
      "source": [
        "# A+B를 출력하는 프로그램을 작성하시오.\n",
        "\n",
        "t = int(input())\n",
        "\n",
        "for i in range(t):\n",
        "  a,b = input().split()\n",
        "  a = int(a)\n",
        "  b = int(b)\n",
        "  print(a+b)\n",
        "   \n",
        "\n",
        "\n"
      ],
      "execution_count": 66,
      "outputs": [
        {
          "output_type": "stream",
          "name": "stdout",
          "text": [
            "5\n",
            "1 1\n",
            "2\n",
            "2 2\n",
            "4\n",
            "3 3\n",
            "6\n",
            "4 4\n",
            "8\n",
            "5 5\n",
            "10\n"
          ]
        }
      ]
    }
  ]
}