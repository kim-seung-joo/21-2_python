{
  "nbformat": 4,
  "nbformat_minor": 0,
  "metadata": {
    "colab": {
      "name": "반복문.ipynb",
      "provenance": [],
      "authorship_tag": "ABX9TyOOkB/DgnKVxexNZ+Tj/8RX",
      "include_colab_link": true
    },
    "kernelspec": {
      "name": "python3",
      "display_name": "Python 3"
    },
    "language_info": {
      "name": "python"
    }
  },
  "cells": [
    {
      "cell_type": "markdown",
      "metadata": {
        "id": "view-in-github",
        "colab_type": "text"
      },
      "source": [
        "<a href=\"https://colab.research.google.com/github/kim-seung-joo/21-2_python/blob/main/%EB%B0%98%EB%B3%B5%EB%AC%B8.ipynb\" target=\"_parent\"><img src=\"https://colab.research.google.com/assets/colab-badge.svg\" alt=\"Open In Colab\"/></a>"
      ]
    },
    {
      "cell_type": "markdown",
      "metadata": {
        "id": "OdkWa1bw5toV"
      },
      "source": [
        "# **학습목표**\n",
        "- 반복문의 이해 및 활용(for)\n",
        "- range 함수 이해 "
      ]
    },
    {
      "cell_type": "markdown",
      "metadata": {
        "id": "wHR3x76v6cEp"
      },
      "source": [
        "# **for 반복문**\n",
        "- 리스트, 문자열 등등 순회를 하면서 값을 처리할때 사용\n",
        "- i는 매번 수행될때마다 a리스트 안의 값으로 \n",
        " "
      ]
    },
    {
      "cell_type": "code",
      "metadata": {
        "colab": {
          "base_uri": "https://localhost:8080/"
        },
        "id": "wSfeFMlK60Dq",
        "outputId": "25b59b92-132f-476d-a1f5-34229df549b8"
      },
      "source": [
        "a = [1,2,3,4,5]\n",
        "\n",
        "for i in a :\n",
        "  print(i, i*2)\n",
        "print('최종 i값 :' , i)"
      ],
      "execution_count": null,
      "outputs": [
        {
          "output_type": "stream",
          "name": "stdout",
          "text": [
            "1 2\n",
            "2 4\n",
            "3 6\n",
            "4 8\n",
            "5 10\n",
            "최종 i값 : 5\n"
          ]
        }
      ]
    },
    {
      "cell_type": "code",
      "metadata": {
        "colab": {
          "base_uri": "https://localhost:8080/"
        },
        "id": "1RtPOLQ173_A",
        "outputId": "21b91c17-d928-4768-c3e4-04852bf826f6"
      },
      "source": [
        "#문자열의 아이템을 출력하기\n",
        "\n",
        "for x in 'Hello comNet A' :\n",
        "  print(x)"
      ],
      "execution_count": null,
      "outputs": [
        {
          "output_type": "stream",
          "name": "stdout",
          "text": [
            "H\n",
            "e\n",
            "l\n",
            "l\n",
            "o\n",
            " \n",
            "c\n",
            "o\n",
            "m\n",
            "N\n",
            "e\n",
            "t\n",
            " \n",
            "A\n"
          ]
        }
      ]
    },
    {
      "cell_type": "code",
      "metadata": {
        "colab": {
          "base_uri": "https://localhost:8080/"
        },
        "id": "sk3pTVKx8unO",
        "outputId": "9f603e03-d0b8-4f72-a528-511286a23659"
      },
      "source": [
        "a = [1,10,7,29,18]\n",
        "\n",
        "for i in a :\n",
        "  if i % 2 ==0 : #짝수\n",
        "   print(i//2)\n",
        "else : #홀수\n",
        "  print(i*2)\n"
      ],
      "execution_count": null,
      "outputs": [
        {
          "output_type": "stream",
          "name": "stdout",
          "text": [
            "5\n",
            "9\n",
            "36\n"
          ]
        }
      ]
    },
    {
      "cell_type": "code",
      "metadata": {
        "colab": {
          "base_uri": "https://localhost:8080/"
        },
        "id": "uTqC4dzxFpOt",
        "outputId": "c46490c8-813e-406b-8980-b6790f952a8e"
      },
      "source": [
        "# 첫 줄에 테스트 케이스가 주어지고,\n",
        "# 두번째 줄 부터 나오는 수를 입력받아\n",
        "# 테스트 케이스만큼 각 수를 더하는 문제\n",
        "\n",
        "t = int(input())\n",
        "\n",
        "\n",
        "for i in range(t) :\n",
        "  a, b = input().split()\n",
        "  a = int (a)\n",
        "  b = int (b)\n",
        "  print(a+b)"
      ],
      "execution_count": null,
      "outputs": [
        {
          "output_type": "stream",
          "name": "stdout",
          "text": [
            "1\n",
            "1 1\n",
            "2\n"
          ]
        }
      ]
    },
    {
      "cell_type": "markdown",
      "metadata": {
        "id": "waHWQ99NHbPm"
      },
      "source": [
        "# **break**\n",
        " * 특정 조건을 만족할때, 블록을 빠져 나오기 위해 사용  \n",
        " "
      ]
    },
    {
      "cell_type": "code",
      "metadata": {
        "colab": {
          "base_uri": "https://localhost:8080/"
        },
        "id": "MJexxCzHJIIt",
        "outputId": "443ea09f-3228-42e3-b199-4e83c5c837bc"
      },
      "source": [
        "a = [1,10,7,29,18]\n",
        "\n",
        "for i in a:\n",
        "  print(i)\n",
        "  if i > 20 : \n",
        "    break\n",
        "    "
      ],
      "execution_count": null,
      "outputs": [
        {
          "output_type": "stream",
          "name": "stdout",
          "text": [
            "1\n",
            "10\n",
            "7\n",
            "29\n"
          ]
        }
      ]
    },
    {
      "cell_type": "markdown",
      "metadata": {
        "id": "Z0iaqTHlJpre"
      },
      "source": [
        "# **continue**\n",
        "- 해당 아이템을 건너 뛰고 싶을때 사용"
      ]
    },
    {
      "cell_type": "code",
      "metadata": {
        "colab": {
          "base_uri": "https://localhost:8080/"
        },
        "id": "1Loa_th0J9cy",
        "outputId": "c9ed6745-55d1-428b-940a-bd58482a6e87"
      },
      "source": [
        "a = [3,9,7,29,18]\n",
        "\n",
        "for i in a :\n",
        "  if i>5 and i<20:\n",
        "    continue\n",
        "  print(i)\n",
        "\n"
      ],
      "execution_count": null,
      "outputs": [
        {
          "output_type": "stream",
          "name": "stdout",
          "text": [
            "3\n",
            "29\n"
          ]
        }
      ]
    },
    {
      "cell_type": "code",
      "metadata": {
        "colab": {
          "base_uri": "https://localhost:8080/"
        },
        "id": "8QB5ThVGKR5B",
        "outputId": "f4ab49ea-e632-473c-bdb4-6430e64479fa"
      },
      "source": [
        "a = [ 3, 2, 5, 10, 23, 12, 3, 4, 0, 2, 4]\n",
        "\n",
        "for i in  a :\n",
        "  if i ==0:\n",
        "    break\n",
        "  elif i % 2 ==0 :\n",
        "    print(i*2)\n",
        "  elif i %2 ==1:\n",
        "    continue\n",
        "\n",
        "    "
      ],
      "execution_count": null,
      "outputs": [
        {
          "output_type": "stream",
          "name": "stdout",
          "text": [
            "4\n",
            "20\n",
            "24\n",
            "8\n"
          ]
        }
      ]
    },
    {
      "cell_type": "markdown",
      "metadata": {
        "id": "n7--Jz5NToDg"
      },
      "source": [
        "# **range 함수**\n",
        "\n",
        " - 리스트 혹은 튜플을 쉽게 만들 수 있는 내장함수\n",
        " - 주어진 값에 따라 다양한 결과를 반환\n",
        "\n",
        "  ```python\n",
        "   range(10)        ->  [0,1,2,3,4,5,6,7,8,9]\n",
        "   range(2, 10)     ->  [2,3,4,5,6,7,8,9]\n",
        "   range(2, 10, 3)  ->  [2, 5, 8] \n",
        "  ```"
      ]
    },
    {
      "cell_type": "code",
      "metadata": {
        "colab": {
          "base_uri": "https://localhost:8080/"
        },
        "id": "IAj9_5-DUHha",
        "outputId": "e5452cf6-fc38-4db9-bd54-96c8c787fe6d"
      },
      "source": [
        "list(range(10))\n",
        "list(range(2,10))\n",
        "list(range(2,10,3))\n",
        "list(range(2,9))"
      ],
      "execution_count": null,
      "outputs": [
        {
          "output_type": "execute_result",
          "data": {
            "text/plain": [
              "[2, 3, 4, 5, 6, 7, 8]"
            ]
          },
          "metadata": {},
          "execution_count": 67
        }
      ]
    },
    {
      "cell_type": "markdown",
      "metadata": {
        "id": "yEqJASR2Vw3t"
      },
      "source": [
        "### **구구단 출력하기**\n",
        "- 2단부터 9단까지\n",
        "- 각 단은 1부터 9까지 곱하도록\n",
        "> - 2 * 1 = 2\n",
        "> - 2 * 2 = 4\n",
        "  - ....\n",
        "  - 2 * 9 = 18\n",
        "  - 총 9단까지 출력\n",
        "\n"
      ]
    },
    {
      "cell_type": "code",
      "metadata": {
        "colab": {
          "base_uri": "https://localhost:8080/"
        },
        "id": "Hhp13-I_Wizs",
        "outputId": "6afc9570-415a-4e87-8a86-fee14ff779b0"
      },
      "source": [
        "print(\"[구구단 출력하기]\")\n",
        "for j in range(2,10) :  \n",
        "  print(\"[\",j,\"단]\") \n",
        "  for i in range(1, 10):  \n",
        "    print(j,\"*\", i,\"=\", j*i )\n",
        "  print()\n",
        "  \n",
        "\n"
      ],
      "execution_count": 95,
      "outputs": [
        {
          "output_type": "stream",
          "name": "stdout",
          "text": [
            "[구구단 출력하기]\n",
            "[ 2 단]\n",
            "2 * 1 = 2\n",
            "2 * 2 = 4\n",
            "2 * 3 = 6\n",
            "2 * 4 = 8\n",
            "2 * 5 = 10\n",
            "2 * 6 = 12\n",
            "2 * 7 = 14\n",
            "2 * 8 = 16\n",
            "2 * 9 = 18\n",
            "\n",
            "[ 3 단]\n",
            "3 * 1 = 3\n",
            "3 * 2 = 6\n",
            "3 * 3 = 9\n",
            "3 * 4 = 12\n",
            "3 * 5 = 15\n",
            "3 * 6 = 18\n",
            "3 * 7 = 21\n",
            "3 * 8 = 24\n",
            "3 * 9 = 27\n",
            "\n",
            "[ 4 단]\n",
            "4 * 1 = 4\n",
            "4 * 2 = 8\n",
            "4 * 3 = 12\n",
            "4 * 4 = 16\n",
            "4 * 5 = 20\n",
            "4 * 6 = 24\n",
            "4 * 7 = 28\n",
            "4 * 8 = 32\n",
            "4 * 9 = 36\n",
            "\n",
            "[ 5 단]\n",
            "5 * 1 = 5\n",
            "5 * 2 = 10\n",
            "5 * 3 = 15\n",
            "5 * 4 = 20\n",
            "5 * 5 = 25\n",
            "5 * 6 = 30\n",
            "5 * 7 = 35\n",
            "5 * 8 = 40\n",
            "5 * 9 = 45\n",
            "\n",
            "[ 6 단]\n",
            "6 * 1 = 6\n",
            "6 * 2 = 12\n",
            "6 * 3 = 18\n",
            "6 * 4 = 24\n",
            "6 * 5 = 30\n",
            "6 * 6 = 36\n",
            "6 * 7 = 42\n",
            "6 * 8 = 48\n",
            "6 * 9 = 54\n",
            "\n",
            "[ 7 단]\n",
            "7 * 1 = 7\n",
            "7 * 2 = 14\n",
            "7 * 3 = 21\n",
            "7 * 4 = 28\n",
            "7 * 5 = 35\n",
            "7 * 6 = 42\n",
            "7 * 7 = 49\n",
            "7 * 8 = 56\n",
            "7 * 9 = 63\n",
            "\n",
            "[ 8 단]\n",
            "8 * 1 = 8\n",
            "8 * 2 = 16\n",
            "8 * 3 = 24\n",
            "8 * 4 = 32\n",
            "8 * 5 = 40\n",
            "8 * 6 = 48\n",
            "8 * 7 = 56\n",
            "8 * 8 = 64\n",
            "8 * 9 = 72\n",
            "\n",
            "[ 9 단]\n",
            "9 * 1 = 9\n",
            "9 * 2 = 18\n",
            "9 * 3 = 27\n",
            "9 * 4 = 36\n",
            "9 * 5 = 45\n",
            "9 * 6 = 54\n",
            "9 * 7 = 63\n",
            "9 * 8 = 72\n",
            "9 * 9 = 81\n",
            "\n"
          ]
        }
      ]
    }
  ]
}