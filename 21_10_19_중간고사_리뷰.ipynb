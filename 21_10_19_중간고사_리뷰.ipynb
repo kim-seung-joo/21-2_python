{
  "nbformat": 4,
  "nbformat_minor": 0,
  "metadata": {
    "colab": {
      "name": "21.10.19 중간고사 리뷰.ipynb",
      "provenance": [],
      "authorship_tag": "ABX9TyPwG3cmlt9YnlYXzpOegIU8",
      "include_colab_link": true
    },
    "kernelspec": {
      "name": "python3",
      "display_name": "Python 3"
    },
    "language_info": {
      "name": "python"
    }
  },
  "cells": [
    {
      "cell_type": "markdown",
      "metadata": {
        "id": "view-in-github",
        "colab_type": "text"
      },
      "source": [
        "<a href=\"https://colab.research.google.com/github/kim-seung-joo/21-2_python/blob/main/21_10_19_%EC%A4%91%EA%B0%84%EA%B3%A0%EC%82%AC_%EB%A6%AC%EB%B7%B0.ipynb\" target=\"_parent\"><img src=\"https://colab.research.google.com/assets/colab-badge.svg\" alt=\"Open In Colab\"/></a>"
      ]
    },
    {
      "cell_type": "code",
      "metadata": {
        "id": "uZWg64Px1zpG"
      },
      "source": [
        "# 1. 파이썬 변수로 사용할수 없는 것은?\n",
        "_num = 1\n",
        "num = 2\n",
        "num1 = 3\n",
        "# 2num = 4\n",
        "# 2 = 4\n",
        "#변수를 선언할때 앞에 숫자를 둘수없다\n",
        "n_um= 5"
      ],
      "execution_count": null,
      "outputs": []
    },
    {
      "cell_type": "code",
      "metadata": {
        "colab": {
          "base_uri": "https://localhost:8080/"
        },
        "id": "MoHQPPG02pW9",
        "outputId": "7956ecad-ded4-444d-932f-444a5992ab4f"
      },
      "source": [
        "# 2. 각 변수에 최종 값은?\n",
        "num = 0\n",
        "n1 = 10\n",
        "n1 = n1 + 10\n",
        "n2 = 20\n",
        "sum = n1 + n2\n",
        "\n",
        "print(n1, n2, sum)"
      ],
      "execution_count": null,
      "outputs": [
        {
          "output_type": "stream",
          "name": "stdout",
          "text": [
            "20 20 40\n"
          ]
        }
      ]
    },
    {
      "cell_type": "code",
      "metadata": {
        "colab": {
          "base_uri": "https://localhost:8080/"
        },
        "id": "zpH6ssPo3oxx",
        "outputId": "a100bedf-47bd-4174-ce5a-b646d84f9569"
      },
      "source": [
        "# 3. 적절한 연산자 찾기 !\n",
        "print(17//4)\n",
        "print(17/4)\n",
        "print(17%4)"
      ],
      "execution_count": null,
      "outputs": [
        {
          "output_type": "stream",
          "name": "stdout",
          "text": [
            "4\n",
            "4.25\n",
            "1\n"
          ]
        }
      ]
    },
    {
      "cell_type": "code",
      "metadata": {
        "colab": {
          "base_uri": "https://localhost:8080/"
        },
        "id": "dD_1pRhH_HrQ",
        "outputId": "bdc3bfed-c964-4e30-dc39-7822391c8947"
      },
      "source": [
        "#4. 실행했을때 결과는 !\n",
        "age = 17\n",
        "print(type(age))"
      ],
      "execution_count": null,
      "outputs": [
        {
          "output_type": "stream",
          "name": "stdout",
          "text": [
            "<class 'int'>\n"
          ]
        }
      ]
    },
    {
      "cell_type": "code",
      "metadata": {
        "colab": {
          "base_uri": "https://localhost:8080/"
        },
        "id": "3PFyEBsIAM5T",
        "outputId": "fc45987d-ce3c-49a3-f16f-01375f859a8f"
      },
      "source": [
        "#5. 프로그램을 실행했을때 결과는?\n",
        "s = \"Hello Hanyang\"\n",
        "print(s[5], s[-5])"
      ],
      "execution_count": null,
      "outputs": [
        {
          "output_type": "stream",
          "name": "stdout",
          "text": [
            "  n\n"
          ]
        }
      ]
    },
    {
      "cell_type": "code",
      "metadata": {
        "colab": {
          "base_uri": "https://localhost:8080/"
        },
        "id": "Tc89OLSHA3tN",
        "outputId": "cc673c24-f983-42b2-b52b-cc33ce90b514"
      },
      "source": [
        "#6. upper 함수를 찾는것\n",
        "s = 'Hello Hanyang!'\n",
        "print(s)\n",
        "s = s.upper()\n",
        "print(s[:8])"
      ],
      "execution_count": null,
      "outputs": [
        {
          "output_type": "stream",
          "name": "stdout",
          "text": [
            "Hello Hanyang!\n",
            "HELLO HA\n"
          ]
        }
      ]
    },
    {
      "cell_type": "code",
      "metadata": {
        "id": "G_4k_QBwBPUa"
      },
      "source": [
        "# 7. 여러 데이터를 다루는 파이썬의 자료형이 아닌것은?\n",
        "# 자료형은 리스트, 셋, 딕셔너리, 튜플이 있음"
      ],
      "execution_count": null,
      "outputs": []
    },
    {
      "cell_type": "code",
      "metadata": {
        "colab": {
          "base_uri": "https://localhost:8080/"
        },
        "id": "nVmj4INyB1Ay",
        "outputId": "14bdfd05-cc02-4397-8653-45951cacf2da"
      },
      "source": [
        "#8-9 리스트\n",
        "a = ['a',1,'python',(1,2),'2',[1,2] ]\n",
        "print(a[3])\n",
        "print(1 in a, 2 in a)"
      ],
      "execution_count": null,
      "outputs": [
        {
          "output_type": "stream",
          "name": "stdout",
          "text": [
            "(1, 2)\n",
            "True False\n"
          ]
        }
      ]
    },
    {
      "cell_type": "code",
      "metadata": {
        "colab": {
          "base_uri": "https://localhost:8080/"
        },
        "id": "FBYm1JpkCguk",
        "outputId": "1694f5b8-e46d-4ad9-a245-716c03f6acd0"
      },
      "source": [
        "#10 리스트와 리스트함수\n",
        "nums = list(range(4))\n",
        "nums.insert(3,100)\n",
        "print(nums)"
      ],
      "execution_count": null,
      "outputs": [
        {
          "output_type": "stream",
          "name": "stdout",
          "text": [
            "[0, 1, 2, 100, 3]\n"
          ]
        }
      ]
    },
    {
      "cell_type": "code",
      "metadata": {
        "colab": {
          "base_uri": "https://localhost:8080/"
        },
        "id": "5IAuu1QWDNFk",
        "outputId": "04df0054-a8d8-4941-d843-3e419e14da2b"
      },
      "source": [
        "#11 튜플의 개념\n",
        "a = 100\n",
        "b = 200\n",
        "\n",
        "a, b = b ,a\n",
        "\n",
        "print(a,b)"
      ],
      "execution_count": null,
      "outputs": [
        {
          "output_type": "stream",
          "name": "stdout",
          "text": [
            "200 100\n"
          ]
        }
      ]
    },
    {
      "cell_type": "code",
      "metadata": {
        "colab": {
          "base_uri": "https://localhost:8080/"
        },
        "id": "VAJJgkaHEKmt",
        "outputId": "e4a6b09d-7de1-4c3b-9c8a-189a6e32696d"
      },
      "source": [
        "#12. 딕셔너리\n",
        "a = {'han':1, 1:2, '1':3}\n",
        "a[1] = 'yang'\n",
        "print(a)"
      ],
      "execution_count": null,
      "outputs": [
        {
          "output_type": "stream",
          "name": "stdout",
          "text": [
            "{'han': 1, 1: 'yang', '1': 3}\n"
          ]
        }
      ]
    },
    {
      "cell_type": "code",
      "metadata": {
        "colab": {
          "base_uri": "https://localhost:8080/"
        },
        "id": "jPQA-yIOE2g0",
        "outputId": "38dfba35-40ab-4308-b342-d58564ce8589"
      },
      "source": [
        "#13. 실행했을때 결과는? \n",
        "b = set('Hello')\n",
        "print(b)"
      ],
      "execution_count": null,
      "outputs": [
        {
          "output_type": "stream",
          "name": "stdout",
          "text": [
            "{'o', 'l', 'e', 'H'}\n"
          ]
        }
      ]
    },
    {
      "cell_type": "code",
      "metadata": {
        "colab": {
          "base_uri": "https://localhost:8080/"
        },
        "id": "1fdZDutSL0oW",
        "outputId": "e8d598fe-2dfa-4f3d-cfef-aa782c9e4729"
      },
      "source": [
        "#14-15\n",
        "room = [[0,0,1,0,9],\n",
        "        [1,0,1,0,1],\n",
        "        [0,1,1,1,9]]\n",
        "\n",
        "mouse = room[0][2]\n",
        "\n",
        "if mouse ==1:\n",
        "  print(\"cheese\")\n",
        "elif mouse == 9:\n",
        "  print(\"trap\")\n",
        "else:\n",
        "  print(\"nothing\")\n",
        "  "
      ],
      "execution_count": null,
      "outputs": [
        {
          "output_type": "stream",
          "name": "stdout",
          "text": [
            "cheese\n"
          ]
        }
      ]
    },
    {
      "cell_type": "code",
      "metadata": {
        "colab": {
          "base_uri": "https://localhost:8080/"
        },
        "id": "narFdC69N3_9",
        "outputId": "6ef638e1-6ec0-49de-e2fc-0b9f7602b212"
      },
      "source": [
        "# 16-17\n",
        "a = 0\n",
        "b = 0 \n",
        "\n",
        "for i in range(3,9):\n",
        "  if i%2 == 0 and i%3 == 0:\n",
        "    continue\n",
        "  elif i%2 == 0:\n",
        "    a += 1\n",
        "  elif i%3 == 0:\n",
        "    b += 1\n",
        "print(a,b)"
      ],
      "execution_count": null,
      "outputs": [
        {
          "output_type": "stream",
          "name": "stdout",
          "text": [
            "2 1\n"
          ]
        }
      ]
    },
    {
      "cell_type": "code",
      "metadata": {
        "colab": {
          "base_uri": "https://localhost:8080/"
        },
        "id": "34VjakKHO7tl",
        "outputId": "3f534ce5-2eb0-4819-db20-4db629fd1200"
      },
      "source": [
        "18-20\n",
        "print('====== 민재나라 치킨공주( . . . ) ======= ')\n",
        "print()\n",
        "print('...?')\n",
        "print()\n",
        "print('메뉴번호. 1.햄버거(300원)2. 피자(600원) 3.치킨(700원)')\n",
        "\n",
        "money = int(input('투입금액: '))\n",
        "menu = int(input('메뉴번호: '))\n",
        "\n",
        "if menu == 1:\n",
        "  money -= 300\n",
        "elif menu ==2:\n",
        "  money -=600\n",
        "elif menu ==3:\n",
        "  money -=700\n",
        "\n",
        "if money < 0:\n",
        "  print('오류가 났  습 Ll ㄷr')\n",
        "else:\n",
        "  won10000 = money//10000\n",
        "  won5000 = (money%10000)//5000\n",
        "  won1000 = (money%5000)//1000\n",
        "  won500 = (money%1000)//500\n",
        "  won100 = (money%500)//100 \n",
        "\n",
        "print('거스름돈: 만원{}'.format(won10000))\n",
        "print('거스름돈: 오천원{}'.format(won5000))\n",
        "print('거스름돈: 천원{}'.format(won1000))\n",
        "print('거스름돈: 오백원{}'.format(won500))\n",
        "print('거스름돈: 백원{}'.format(won100))\n",
        "\n",
        "\n",
        "\n",
        "\n",
        "\n",
        "\n",
        "\n",
        "\n"
      ],
      "execution_count": null,
      "outputs": [
        {
          "output_type": "stream",
          "name": "stdout",
          "text": [
            "====== 민재나라 치킨공주( . . . ) ======= \n",
            "\n",
            "...?\n",
            "\n",
            "메뉴번호. 1.햄버거(300원)2. 피자(600원) 3.치킨(700원)\n",
            "투입금액: 5000\n",
            "메뉴번호: 2\n",
            "거스름돈: 만원0\n",
            "거스름돈: 오천원0\n",
            "거스름돈: 천원4\n",
            "거스름돈: 오백원0\n",
            "거스름돈: 백원4\n"
          ]
        }
      ]
    }
  ]
}