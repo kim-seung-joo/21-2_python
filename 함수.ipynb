{
  "nbformat": 4,
  "nbformat_minor": 0,
  "metadata": {
    "colab": {
      "name": "함수.ipynb",
      "provenance": [],
      "authorship_tag": "ABX9TyMFMQW6jSuTCdLoC0yOkziM",
      "include_colab_link": true
    },
    "kernelspec": {
      "name": "python3",
      "display_name": "Python 3"
    },
    "language_info": {
      "name": "python"
    }
  },
  "cells": [
    {
      "cell_type": "markdown",
      "metadata": {
        "id": "view-in-github",
        "colab_type": "text"
      },
      "source": [
        "<a href=\"https://colab.research.google.com/github/kim-seung-joo/21-2_python/blob/main/%ED%95%A8%EC%88%98.ipynb\" target=\"_parent\"><img src=\"https://colab.research.google.com/assets/colab-badge.svg\" alt=\"Open In Colab\"/></a>"
      ]
    },
    {
      "cell_type": "markdown",
      "metadata": {
        "id": "zdkgg_0wQ554"
      },
      "source": [
        "### **학습목표**\n",
        "\n",
        "1. 함수의 이해\n",
        "2. 함수 구현 밎 사용 숙지\n",
        "\n",
        "- 표현함수(내장함수)\n",
        "- 사용자 정의 함수"
      ]
    },
    {
      "cell_type": "markdown",
      "metadata": {
        "id": "M7yTgZFyRK6_"
      },
      "source": [
        "**함수란 ?**\n",
        "\n",
        "- 예를들어, print(), range() 등등\n",
        "- range(3,9)-> 3,4,5,6,7,8\n",
        "> 괄호 안에 입력 값을 주어서 수를 반환\n",
        "- 이미 구현된 함수: 내장함수(built-in function)\n"
      ]
    },
    {
      "cell_type": "markdown",
      "metadata": {
        "id": "RJ1s7IB9c0mE"
      },
      "source": [
        "#**수학 관련된 내장함수**\n",
        "1. abs()\n",
        "2. 진수변환\n",
        "\n",
        "- bin() 10진수를 2진수로\n",
        "- oct() 10진수를 8진수로\n",
        "- hex() 10진수를 16진수로\n",
        "\n",
        "3. 연산\n",
        "\n",
        "- sum(): 합계\n",
        "- pow(): 거듭제곱\n",
        "- max(): 최댓값\n",
        "- min(): 최솟값\n",
        "\n",
        "4. round(): 라운드\n"
      ]
    },
    {
      "cell_type": "code",
      "metadata": {
        "colab": {
          "base_uri": "https://localhost:8080/"
        },
        "id": "NV-aDmmVeGKc",
        "outputId": "a94cdfd4-a9a5-41d8-f9b9-8dd93313d05f"
      },
      "source": [
        "print('-10의 절댓값:', abs(-10))\n",
        "print('128의 2진수:', bin(128))\n",
        "print('17의 8진수:', oct(17))\n",
        "print('521521의 16진수:', hex(521521))"
      ],
      "execution_count": null,
      "outputs": [
        {
          "output_type": "stream",
          "name": "stdout",
          "text": [
            "-10의 절댓값: 10\n",
            "128의 2진수: 0b10000000\n",
            "17의 8진수: 0o21\n",
            "521521의 16진수: 0x7f531\n"
          ]
        }
      ]
    },
    {
      "cell_type": "code",
      "metadata": {
        "colab": {
          "base_uri": "https://localhost:8080/"
        },
        "id": "Mx4F_zjWfClt",
        "outputId": "5f26e961-0395-4fc2-fe51-1d8049782cc7"
      },
      "source": [
        "num = [2,4,8,1,7,3]\n",
        "alpha = ['a','A','c','P','p']\n",
        "s = 'alpha'\n",
        "print('가장큰값:', max(num))\n",
        "print('가장작은값:', min(num))\n",
        "print('가장큰값:', max(alpha))\n",
        "print('가장작은값:', min(alpha))\n",
        "print('리스트 합계:', sum(num))\n",
        "# print('문자열 합계:', sum(s,alpha))\n",
        "print('pow(3의4승):', pow(3,4))\n",
        "pi = 3.1415926535\n",
        "print('3.1415926535 의 소수점 6의 자리 반올림', round(pi,6))"
      ],
      "execution_count": null,
      "outputs": [
        {
          "output_type": "stream",
          "name": "stdout",
          "text": [
            "가장큰값: 8\n",
            "가장작은값: 1\n",
            "가장큰값: p\n",
            "가장작은값: A\n",
            "리스트 합계: 25\n",
            "pow(3의4승): 81\n",
            "3.1415926535 의 소수점 6의 자리 반올림 3.141593\n"
          ]
        }
      ]
    },
    {
      "cell_type": "markdown",
      "metadata": {
        "id": "LXN6pJEJhSnV"
      },
      "source": [
        "## **문자열 관련 내장함수**\n",
        "- input(): ()안에 문자열 매개변수를 출력한 후 \n",
        "입력받는다.\n",
        "- format():일부 내용을 치환하여 내가 의도한 형식의 문자열 출력하는 함수\n"
      ]
    },
    {
      "cell_type": "code",
      "metadata": {
        "colab": {
          "base_uri": "https://localhost:8080/"
        },
        "id": "z_V3ZPlghSJd",
        "outputId": "b40b899c-0b67-4935-d702-3b4908dff992"
      },
      "source": [
        "id = input('아이디를 입력하세요:')\n",
        "password = input('비밀번호를 입력하세요:')\n",
        "print('{}님 가입을 환영합ㄴlㄷr !'.format(id))"
      ],
      "execution_count": null,
      "outputs": [
        {
          "output_type": "stream",
          "name": "stdout",
          "text": [
            "아이디를 입력하세요:문어\n",
            "비밀번호를 입력하세요:문어\n",
            "문어님 가입을 환영합ㄴlㄷr !\n"
          ]
        }
      ]
    },
    {
      "cell_type": "code",
      "metadata": {
        "colab": {
          "base_uri": "https://localhost:8080/"
        },
        "id": "YaxMRlGmomOX",
        "outputId": "9f22cfdb-4001-4746-a018-1b8d06f8d256"
      },
      "source": [
        "#가위바위보 게임\n",
        "\n",
        "import random\n",
        "\n",
        "#print(com)\n",
        "\n",
        "print('---- 가위바위보 3판 ----- ')\n",
        "people = int(input(' 가위,바위,보 중 하나입력 >>>>>'))\n",
        "print('가위:1, 바위:2, 보:3')  \n",
        "\n",
        "for i in range(1,4):\n",
        "  print('{}라운드',format(i))\n",
        "  com = random.randint(1,3)\n",
        "  print('라운드1')\n",
        "  if com== 1:\n",
        "    print('컴퓨터: 가위')\n",
        "  elif com==2:\n",
        "    print('컴퓨터: 바위')\n",
        "  elif com==3:\n",
        "    print('컴퓨터: 보')\n",
        "\n",
        "  if people==1:\n",
        "    print('사람: 가위')\n",
        "  elif people==2:\n",
        "    print('사람: 바위') \n",
        "  elif people==3:\n",
        "    print('사람: 보')\n",
        "\n",
        "  if people==1 and com==1:\n",
        "    print('동점입니다.')\n",
        "    \n",
        "\n",
        "\n",
        "\n",
        "\n",
        "\n",
        "\n",
        "\n",
        "\n",
        "\n",
        "\n",
        "\n"
      ],
      "execution_count": null,
      "outputs": [
        {
          "output_type": "stream",
          "name": "stdout",
          "text": [
            "---- 가위바위보 3판 ----- \n",
            " 가위,바위,보 중 하나입력 >>>>>2\n",
            "가위:1, 바위:2, 보:3\n",
            "{}라운드 1\n",
            "라운드1\n",
            "컴퓨터: 가위\n",
            "사람: 바위\n",
            "{}라운드 2\n",
            "라운드1\n",
            "컴퓨터: 바위\n",
            "사람: 바위\n",
            "{}라운드 3\n",
            "라운드1\n",
            "컴퓨터: 가위\n",
            "사람: 바위\n"
          ]
        }
      ]
    }
  ]
}