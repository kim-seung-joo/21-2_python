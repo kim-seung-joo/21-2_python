{
  "nbformat": 4,
  "nbformat_minor": 0,
  "metadata": {
    "colab": {
      "name": "211026_모듈.ipynb",
      "provenance": [],
      "authorship_tag": "ABX9TyPnIDC1lAwAvnL15SLPVG2Z",
      "include_colab_link": true
    },
    "kernelspec": {
      "name": "python3",
      "display_name": "Python 3"
    },
    "language_info": {
      "name": "python"
    }
  },
  "cells": [
    {
      "cell_type": "markdown",
      "metadata": {
        "id": "view-in-github",
        "colab_type": "text"
      },
      "source": [
        "<a href=\"https://colab.research.google.com/github/kim-seung-joo/21-2_python/blob/main/211026_%EB%AA%A8%EB%93%88.ipynb\" target=\"_parent\"><img src=\"https://colab.research.google.com/assets/colab-badge.svg\" alt=\"Open In Colab\"/></a>"
      ]
    },
    {
      "cell_type": "markdown",
      "metadata": {
        "id": "hc55hwF2Ccv7"
      },
      "source": [
        "#학습목표\n",
        "1. 모듈의 이해 및 모듈 import"
      ]
    },
    {
      "cell_type": "code",
      "metadata": {
        "colab": {
          "base_uri": "https://localhost:8080/"
        },
        "id": "zpxlPNj_Cu3_",
        "outputId": "437b3105-7dc0-4f7d-e2e3-6a6491cce050"
      },
      "source": [
        "import math\n",
        "\n",
        "pipi = math.pi\n",
        "fact = math.factorial(5)\n",
        "root = math.sqrt(25)\n",
        "\n",
        "print(pipi)\n",
        "print(fact)\n",
        "print(root)"
      ],
      "execution_count": 7,
      "outputs": [
        {
          "output_type": "stream",
          "name": "stdout",
          "text": [
            "3.141592653589793\n",
            "120\n",
            "5.0\n"
          ]
        }
      ]
    },
    {
      "cell_type": "code",
      "metadata": {
        "colab": {
          "base_uri": "https://localhost:8080/"
        },
        "id": "9Rpcu36REF3G",
        "outputId": "14eb8281-2e67-460b-eb69-56ce1a86cdde"
      },
      "source": [
        "import random\n",
        "print('주사위값:',random.randint(1,6))\n",
        "print('주사위값:',random.randrange(1,7))\n",
        "list = ['가위','바위','보']\n",
        "season = ['봄','여름','가을','겨울']\n",
        "print('가위바위보:', random.choice(list))\n",
        "print('계절:',random.choice(season))"
      ],
      "execution_count": 37,
      "outputs": [
        {
          "output_type": "stream",
          "name": "stdout",
          "text": [
            "주사위값: 5\n",
            "주사위값: 3\n",
            "가위바위보: 가위\n",
            "계절: 가을\n"
          ]
        }
      ]
    },
    {
      "cell_type": "code",
      "metadata": {
        "colab": {
          "base_uri": "https://localhost:8080/"
        },
        "id": "8U4jPugkGaGR",
        "outputId": "cd0668d8-5de9-42a4-f185-ea3d5bced5f0"
      },
      "source": [
        "from datetime import datetime\n",
        "today = datetime.now()\n",
        "\n",
        "print('오늘의 시간:',today)\n",
        "print('{}년 {}월 {}일'.format(today.year, today.month, today.day))\n",
        "print('{}시 {}분 {}초'.format(today.hour, today.minute, today.second))\n",
        "\n",
        "xmas = datetime(2021,12,25,0,0,0)\n",
        "k_sat = datetime(2023,11,16,0,0,0)\n",
        "\n",
        "print('xmas: ',xmas)\n",
        "print('고백까지 남은 디데이:',today-xmas)\n",
        "print('수능까지 남은 디데이:',today-k_sat)"
      ],
      "execution_count": 53,
      "outputs": [
        {
          "output_type": "stream",
          "name": "stdout",
          "text": [
            "오늘의 시간: 2021-10-26 01:06:08.865790\n",
            "2021년 10월 26일\n",
            "1시 6분 8초\n",
            "xmas:  2021-12-25 00:00:00\n",
            "고백까지 남은 디데이: -60 days, 1:06:08.865790\n",
            "수능까지 남은 디데이: -751 days, 1:06:08.865790\n"
          ]
        }
      ]
    }
  ]
}