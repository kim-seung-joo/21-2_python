{
  "nbformat": 4,
  "nbformat_minor": 0,
  "metadata": {
    "colab": {
      "name": "모듈과 패키지.ipynb",
      "provenance": [],
      "authorship_tag": "ABX9TyPGj3L8HpstxhnMnIOShK71",
      "include_colab_link": true
    },
    "kernelspec": {
      "name": "python3",
      "display_name": "Python 3"
    },
    "language_info": {
      "name": "python"
    }
  },
  "cells": [
    {
      "cell_type": "markdown",
      "metadata": {
        "id": "view-in-github",
        "colab_type": "text"
      },
      "source": [
        "<a href=\"https://colab.research.google.com/github/kim-seung-joo/21-2_python/blob/main/%EB%AA%A8%EB%93%88%EA%B3%BC_%ED%8C%A8%ED%82%A4%EC%A7%80.ipynb\" target=\"_parent\"><img src=\"https://colab.research.google.com/assets/colab-badge.svg\" alt=\"Open In Colab\"/></a>"
      ]
    },
    {
      "cell_type": "markdown",
      "metadata": {
        "id": "VGaA4doowbRN"
      },
      "source": [
        "## 모듈과 패키지\n"
      ]
    },
    {
      "cell_type": "markdown",
      "metadata": {
        "id": "CK8E2avywiOn"
      },
      "source": [
        "## 모듈과 패키지\n",
        " - 함수,변수 클래스의 집합\n",
        " - 다른 파이썬 프로그램에서 가져와 사용할수있는 파이썬 파일\n",
        " - 파이썬에는 다른 사람들이 만들어 놓은 모듈이 굉장히 많음\n",
        " - 사용자가 모듈은 직접 만들어서 사용할 수도 있음\n",
        " "
      ]
    },
    {
      "cell_type": "markdown",
      "metadata": {
        "id": "ty7sNXWiw6Y4"
      },
      "source": [
        "### 장점\n",
        "- 단순성\n",
        " - 전체 문제에 초점을 맞추기보다는 문제의 상대적으로 작은 부분에만 초점을 맞춤\n",
        " - 단일 모듈로 작업할수 있는 작은 도메인\n",
        " - 개발이 쉬우며 오류 발생이 적음\n",
        "- 유지 보수성\n",
        " - 일반적으로 모듈은 서로 다른 문제 영역간에 논리적 경계를 설정하도록 설계\n",
        "- 재사용성\n",
        " - 단일 모듈에서 정의된 기능은 응용 프로그램의 다른 부분에서(적절히 정의된 인터페이스 를 통해 )쉽게 재사용 가능\n",
        "-범위지정\n",
        " - 일반적으로 모듈은 프로그램의 여러영역에서 식별자 간의 충돌을 피하는데 도움이 되는 별도의 네임 스페이스를 정의\n",
        " "
      ]
    },
    {
      "cell_type": "markdown",
      "metadata": {
        "id": "ZRUljBlayMHp"
      },
      "source": [
        "### 종류\n",
        "- 사용자 정의 모듈: 사용자가 직접 정의해서 사용하는 모듈\n",
        "- 표준모듈: 파이썬에서 기본 제공하는 모듈\n",
        "- 서드 파티 모듈: 외부에서 제공하는 모듈\n",
        "\n",
        " - 파이썬 표준 모듈에 모든 기능이 있지 않음\n",
        " - 서드 파티 모듈을 이용해 고급 프로그래밍 가능\n",
        " - 게임 개발을 위한 pygame, 데이터베이스 기능의 sqlalchemy, 데이터 분석 기능의 numpy"
      ]
    },
    {
      "cell_type": "markdown",
      "metadata": {
        "id": "TrTR60rpy08S"
      },
      "source": [
        "## 사용자 정의 모듈\n",
        "- 사용자가 사용할 모듈을 직접 정의\n",
        "- 모듈 이름으로 파일명을 사용\n",
        "\n",
        "- lpython 내장 매직 명령어(magic command)사용\n",
        "\n",
        " - `%%writefile`: 셀의 코드를.py파이썬 코드 파일로 저장\n",
        "\n",
        " - `%load`: 파이썬 코드 파일 불러오기\n",
        " - `%run`: 파이썬 코드 파일실행"
      ]
    },
    {
      "cell_type": "code",
      "metadata": {
        "colab": {
          "base_uri": "https://localhost:8080/"
        },
        "id": "MPRBSFS8zk7f",
        "outputId": "e6936355-66ef-4be2-f474-ecf78e80be4d"
      },
      "source": [
        "%%writefile Module.py\n",
        "def func1():\n",
        "  print('Module.py: func1()')\n",
        "\n",
        "def func2():\n",
        "  print('Module.py: func2()')\n",
        "\n",
        "def func3():\n",
        "  print('Module.py: func3()')\n"
      ],
      "execution_count": null,
      "outputs": [
        {
          "output_type": "stream",
          "name": "stdout",
          "text": [
            "Writing Module.py\n"
          ]
        }
      ]
    },
    {
      "cell_type": "code",
      "metadata": {
        "colab": {
          "base_uri": "https://localhost:8080/"
        },
        "id": "GfWAjb7x0dPi",
        "outputId": "80b3e794-f4bb-46fa-a340-1d8771c76d71"
      },
      "source": [
        "!ls"
      ],
      "execution_count": null,
      "outputs": [
        {
          "output_type": "stream",
          "name": "stdout",
          "text": [
            "Module.py  sample_data\n"
          ]
        }
      ]
    },
    {
      "cell_type": "code",
      "metadata": {
        "id": "Bn0BgttY0jCd"
      },
      "source": [
        "%load Module.py"
      ],
      "execution_count": null,
      "outputs": []
    },
    {
      "cell_type": "code",
      "metadata": {
        "id": "ss3iVJW_0lQN"
      },
      "source": [
        "%run Module.py"
      ],
      "execution_count": null,
      "outputs": []
    },
    {
      "cell_type": "code",
      "metadata": {
        "colab": {
          "base_uri": "https://localhost:8080/"
        },
        "id": "Nk08LhzV0olw",
        "outputId": "0dc1a206-1557-4659-e77e-15e54926cbef"
      },
      "source": [
        "import Module\n",
        "Module.func1()\n",
        "Module.func2()\n",
        "Module.func3()"
      ],
      "execution_count": null,
      "outputs": [
        {
          "output_type": "stream",
          "name": "stdout",
          "text": [
            "Moudule.py: func1()\n",
            "Moudule.py: func2()\n",
            "Moudule.py: func3()\n"
          ]
        }
      ]
    },
    {
      "cell_type": "code",
      "metadata": {
        "colab": {
          "base_uri": "https://localhost:8080/"
        },
        "id": "FtzX-zBu07EB",
        "outputId": "ade4e70b-47f4-4aa2-f876-b5af449fedbf"
      },
      "source": [
        "from Module import *\n",
        "func1()\n",
        "func2()\n",
        "func3()"
      ],
      "execution_count": null,
      "outputs": [
        {
          "output_type": "stream",
          "name": "stdout",
          "text": [
            "Moudule.py: func1()\n",
            "Moudule.py: func2()\n",
            "Moudule.py: func3()\n"
          ]
        }
      ]
    },
    {
      "cell_type": "markdown",
      "metadata": {
        "id": "HhDpAlVO1Ktv"
      },
      "source": [
        "##[Lab]계산기 모듈 만들기\n",
        " - 사용자가 정의 모듈을 이용해서 계산기에 필요한 기능들로 모듈 만들기\n",
        " "
      ]
    },
    {
      "cell_type": "code",
      "metadata": {
        "id": "PWFwiUeR1XuM",
        "colab": {
          "base_uri": "https://localhost:8080/"
        },
        "outputId": "6c8c8252-42f9-446c-fcbb-889f513a2206"
      },
      "source": [
        "%%writefile Calculator.py\n",
        "def add(a, b):\n",
        "  return a + b\n",
        "\n",
        "def sub(a, b):\n",
        "  return a - b\n",
        "  \n",
        "def mul(a, b):\n",
        "  return a * b\n",
        "\n",
        "def div(a, b):\n",
        "  return a / b\n",
        "\n",
        "def mod(a, b):\n",
        "  return a % b"
      ],
      "execution_count": 2,
      "outputs": [
        {
          "output_type": "stream",
          "name": "stdout",
          "text": [
            "Overwriting Calculator.py\n"
          ]
        }
      ]
    },
    {
      "cell_type": "code",
      "metadata": {
        "id": "hD8mHfih1aHg",
        "colab": {
          "base_uri": "https://localhost:8080/"
        },
        "outputId": "0bcad70e-362c-41cc-8b41-23553c0e5248"
      },
      "source": [
        "from Calculator import *\n",
        "\n",
        "print(add(3, 5))\n",
        "print(sub(3, 5))\n",
        "print(mul(3, 5))\n",
        "print(div(3, 5))\n",
        "print(mod(3, 5))\n"
      ],
      "execution_count": 4,
      "outputs": [
        {
          "output_type": "stream",
          "name": "stdout",
          "text": [
            "8\n",
            "-2\n",
            "15\n",
            "0.6\n",
            "3\n"
          ]
        }
      ]
    },
    {
      "cell_type": "markdown",
      "metadata": {
        "id": "7K_lSe6lGnx_"
      },
      "source": [
        "## 파이썬 표준 모듈\n",
        " - 파이썬에서 기본으로 내장된 유용한 속성과 함수들이 많음"
      ]
    },
    {
      "cell_type": "code",
      "metadata": {
        "colab": {
          "base_uri": "https://localhost:8080/"
        },
        "id": "wbuIDDRWGuvm",
        "outputId": "1b731ffb-c04f-4485-e191-a233d469bb55"
      },
      "source": [
        "import sys\n",
        "print(sys.builtin_module_names)"
      ],
      "execution_count": 5,
      "outputs": [
        {
          "output_type": "stream",
          "name": "stdout",
          "text": [
            "('_abc', '_ast', '_bisect', '_blake2', '_codecs', '_collections', '_datetime', '_elementtree', '_functools', '_heapq', '_imp', '_io', '_locale', '_md5', '_operator', '_pickle', '_posixsubprocess', '_random', '_sha1', '_sha256', '_sha3', '_sha512', '_signal', '_socket', '_sre', '_stat', '_string', '_struct', '_symtable', '_thread', '_tracemalloc', '_warnings', '_weakref', 'array', 'atexit', 'binascii', 'builtins', 'errno', 'faulthandler', 'fcntl', 'gc', 'grp', 'itertools', 'marshal', 'math', 'posix', 'pwd', 'pyexpat', 'select', 'spwd', 'sys', 'syslog', 'time', 'unicodedata', 'xxsubtype', 'zipimport', 'zlib')\n"
          ]
        }
      ]
    },
    {
      "cell_type": "code",
      "metadata": {
        "colab": {
          "base_uri": "https://localhost:8080/"
        },
        "id": "cGvwDn7mGu3E",
        "outputId": "ffd73359-9ef7-4df7-ebc9-31eba2f48282"
      },
      "source": [
        "print(dir(__builtins__))"
      ],
      "execution_count": 7,
      "outputs": [
        {
          "output_type": "stream",
          "name": "stdout",
          "text": [
            "['ArithmeticError', 'AssertionError', 'AttributeError', 'BaseException', 'BlockingIOError', 'BrokenPipeError', 'BufferError', 'BytesWarning', 'ChildProcessError', 'ConnectionAbortedError', 'ConnectionError', 'ConnectionRefusedError', 'ConnectionResetError', 'DeprecationWarning', 'EOFError', 'Ellipsis', 'EnvironmentError', 'Exception', 'False', 'FileExistsError', 'FileNotFoundError', 'FloatingPointError', 'FutureWarning', 'GeneratorExit', 'IOError', 'ImportError', 'ImportWarning', 'IndentationError', 'IndexError', 'InterruptedError', 'IsADirectoryError', 'KeyError', 'KeyboardInterrupt', 'LookupError', 'MemoryError', 'ModuleNotFoundError', 'NameError', 'None', 'NotADirectoryError', 'NotImplemented', 'NotImplementedError', 'OSError', 'OverflowError', 'PendingDeprecationWarning', 'PermissionError', 'ProcessLookupError', 'RecursionError', 'ReferenceError', 'ResourceWarning', 'RuntimeError', 'RuntimeWarning', 'StopAsyncIteration', 'StopIteration', 'SyntaxError', 'SyntaxWarning', 'SystemError', 'SystemExit', 'TabError', 'TimeoutError', 'True', 'TypeError', 'UnboundLocalError', 'UnicodeDecodeError', 'UnicodeEncodeError', 'UnicodeError', 'UnicodeTranslateError', 'UnicodeWarning', 'UserWarning', 'ValueError', 'Warning', 'ZeroDivisionError', '__IPYTHON__', '__build_class__', '__debug__', '__doc__', '__import__', '__loader__', '__name__', '__package__', '__spec__', 'abs', 'all', 'any', 'ascii', 'bin', 'bool', 'breakpoint', 'bytearray', 'bytes', 'callable', 'chr', 'classmethod', 'compile', 'complex', 'copyright', 'credits', 'delattr', 'dict', 'dir', 'display', 'divmod', 'dreload', 'enumerate', 'eval', 'exec', 'execfile', 'filter', 'float', 'format', 'frozenset', 'get_ipython', 'getattr', 'globals', 'hasattr', 'hash', 'help', 'hex', 'id', 'input', 'int', 'isinstance', 'issubclass', 'iter', 'len', 'license', 'list', 'locals', 'map', 'max', 'memoryview', 'min', 'next', 'object', 'oct', 'open', 'ord', 'pow', 'print', 'property', 'range', 'repr', 'reversed', 'round', 'runfile', 'set', 'setattr', 'slice', 'sorted', 'staticmethod', 'str', 'sum', 'super', 'tuple', 'type', 'vars', 'zip']\n"
          ]
        }
      ]
    },
    {
      "cell_type": "markdown",
      "metadata": {
        "id": "7npAAe23G_HV"
      },
      "source": [
        "## 시간모듈(date time)\n",
        "- 운영체제가 제공하는 시간기능을 파이썬에서 사용할 수 있도록 만들어진 모듈\n",
        "- 시간 모듈을 사용하기 위해서는 import time 핑요"
      ]
    },
    {
      "cell_type": "code",
      "metadata": {
        "colab": {
          "base_uri": "https://localhost:8080/"
        },
        "id": "eG2RvZgZHO2y",
        "outputId": "b5421689-f428-4f88-c983-41baba2e1d9e"
      },
      "source": [
        "import time\n",
        "print(dir(time))"
      ],
      "execution_count": 8,
      "outputs": [
        {
          "output_type": "stream",
          "name": "stdout",
          "text": [
            "['CLOCK_BOOTTIME', 'CLOCK_MONOTONIC', 'CLOCK_MONOTONIC_RAW', 'CLOCK_PROCESS_CPUTIME_ID', 'CLOCK_REALTIME', 'CLOCK_THREAD_CPUTIME_ID', '_STRUCT_TM_ITEMS', '__doc__', '__loader__', '__name__', '__package__', '__spec__', 'altzone', 'asctime', 'clock', 'clock_getres', 'clock_gettime', 'clock_gettime_ns', 'clock_settime', 'clock_settime_ns', 'ctime', 'daylight', 'get_clock_info', 'gmtime', 'localtime', 'mktime', 'monotonic', 'monotonic_ns', 'perf_counter', 'perf_counter_ns', 'process_time', 'process_time_ns', 'pthread_getcpuclockid', 'sleep', 'strftime', 'strptime', 'struct_time', 'thread_time', 'thread_time_ns', 'time', 'time_ns', 'timezone', 'tzname', 'tzset']\n"
          ]
        }
      ]
    },
    {
      "cell_type": "markdown",
      "metadata": {
        "id": "rFwMQ5FpHVVu"
      },
      "source": [
        "- 시간 모듈 time예제"
      ]
    },
    {
      "cell_type": "code",
      "metadata": {
        "colab": {
          "base_uri": "https://localhost:8080/"
        },
        "id": "cOqsfAkhHXUB",
        "outputId": "4f154782-64e5-49f0-cb9b-933d572cdaaa"
      },
      "source": [
        "import time\n",
        "print(time)\n",
        "print(time.time())\n",
        "print(time.time())\n",
        "print(time.time())\n",
        "\n",
        "now = time.gmtime(time.time())\n",
        "print(now)\n",
        "\n",
        "year = str(now.tm_year)\n",
        "month = str(now.tm_mon)\n",
        "day = str(now.tm_mday)\n",
        "print(year + '년',month + '월', day + '일')\n",
        "\n",
        "hour = str(now.tm_hour)\n",
        "minute = str(now.tm_min)\n",
        "sec = str(now.tm_sec)\n",
        "print(hour + '시', minute + '분', sec + '초')"
      ],
      "execution_count": 22,
      "outputs": [
        {
          "output_type": "stream",
          "name": "stdout",
          "text": [
            "<module 'time' (built-in)>\n",
            "1637206933.5560894\n",
            "1637206933.5562675\n",
            "1637206933.5564137\n",
            "time.struct_time(tm_year=2021, tm_mon=11, tm_mday=18, tm_hour=3, tm_min=42, tm_sec=13, tm_wday=3, tm_yday=322, tm_isdst=0)\n",
            "2021년 11월 18일\n",
            "3시 42분 13초\n"
          ]
        }
      ]
    },
    {
      "cell_type": "markdown",
      "metadata": {
        "id": "ga5E9bj4HfZG"
      },
      "source": [
        "- 날짜시간 모듈 datetime의 date 클래스 예제"
      ]
    },
    {
      "cell_type": "code",
      "metadata": {
        "colab": {
          "base_uri": "https://localhost:8080/"
        },
        "id": "FTGlzcwhHek7",
        "outputId": "3832e5e2-1db3-45c0-d5f5-13dd1d33df8b"
      },
      "source": [
        "from datetime import date\n",
        "print(date)\n",
        "print(date(2000, 1, 1))\n",
        "print(date(year = 2010, month = 1, day = 1))\n",
        "print(date.today())\n",
        "\n",
        "today = date.today()\n",
        "year = str(today.year)\n",
        "month = str(today.month)\n",
        "day = str(today.day)\n",
        "weekday = '월화수목금토일'[(today.weekday())]\n",
        "print(year + '년', month + '월', day + '일', weekday + '요일')"
      ],
      "execution_count": 26,
      "outputs": [
        {
          "output_type": "stream",
          "name": "stdout",
          "text": [
            "<class 'datetime.date'>\n",
            "2000-01-01\n",
            "2010-01-01\n",
            "2021-11-18\n",
            "2021년 11월 18일 목요일\n"
          ]
        }
      ]
    },
    {
      "cell_type": "markdown",
      "metadata": {
        "id": "VNAYCPOjJ_an"
      },
      "source": [
        "- 날짜시간 모듈 datetime의 time 클래스 예제"
      ]
    },
    {
      "cell_type": "code",
      "metadata": {
        "colab": {
          "base_uri": "https://localhost:8080/"
        },
        "id": "1Ui4Dlo6KEth",
        "outputId": "fa41de33-7c1c-42c9-8914-e450f1502559"
      },
      "source": [
        "from datetime import time\n",
        "print(time)\n",
        "print(time(12, 0))\n",
        "print(time(14, 30))\n",
        "print(time(16, 30, 45))\n",
        "print(time(18, 00, 15, 100000))\n",
        "\n",
        "now = time(20, 40, 15, 20000)\n",
        "hour = str(now.hour)\n",
        "minute = str(now.minute)\n",
        "sec = str(now.second)\n",
        "msec = str(now.microsecond)\n",
        "print(hour + '시', minute + '분', sec + '초', msec + '마이크로초')"
      ],
      "execution_count": 27,
      "outputs": [
        {
          "output_type": "stream",
          "name": "stdout",
          "text": [
            "<class 'datetime.time'>\n",
            "12:00:00\n",
            "14:30:00\n",
            "16:30:45\n",
            "18:00:15.100000\n",
            "20시 40분 15초 20000마이크로초\n"
          ]
        }
      ]
    },
    {
      "cell_type": "markdown",
      "metadata": {
        "id": "SC8ZKnEEa_dI"
      },
      "source": [
        "- 날짜시간 모듈 datetime의 datetime 클래스예제\n",
        "- 날짜시간을 문자열로 표현하기위한 strftime() 메소드 예제\n",
        " "
      ]
    },
    {
      "cell_type": "code",
      "metadata": {
        "colab": {
          "base_uri": "https://localhost:8080/"
        },
        "id": "G7TPyxr8bapO",
        "outputId": "67706e47-254c-4290-a18c-a6f4675e91db"
      },
      "source": [
        "from datetime import datetime\n",
        "print(datetime)\n",
        "print(datetime(2020,1, 1))\n",
        "print(datetime(2020, 1, 1, 1, 15, 45))\n",
        "print(datetime.now())\n",
        "now = datetime.now()\n",
        "print(now.strftime('XY년 %m월 %d일 %H시 %M분 %5초'))\n",
        "print(now.strftime('%y/%m/%d %p %l:%M:%5:%f'))"
      ],
      "execution_count": 29,
      "outputs": [
        {
          "output_type": "stream",
          "name": "stdout",
          "text": [
            "<class 'datetime.datetime'>\n",
            "2020-01-01 00:00:00\n",
            "2020-01-01 01:15:45\n",
            "2021-11-18 05:07:27.718569\n",
            "XY년 11월 18일 05시 07분   %5초\n",
            "21/11/18 AM  5:07:  %5:718674\n"
          ]
        }
      ]
    },
    {
      "cell_type": "markdown",
      "metadata": {
        "id": "MRky3EbdcXpx"
      },
      "source": [
        "[Lab]테어난지 몇일이 되었는가?\n",
        " - 태어난지 얼마나 지났는지 계산하기"
      ]
    },
    {
      "cell_type": "code",
      "metadata": {
        "colab": {
          "base_uri": "https://localhost:8080/"
        },
        "id": "Oqg9gD6IcitZ",
        "outputId": "d22de139-22cd-468f-9d68-9300b7085787"
      },
      "source": [
        "from datetime import date\n",
        "birthday = date(2005, 9, 28)\n",
        "today = date.today()\n",
        "day = today - birthday\n",
        "print(day.days)"
      ],
      "execution_count": 30,
      "outputs": [
        {
          "output_type": "stream",
          "name": "stdout",
          "text": [
            "5895\n"
          ]
        }
      ]
    },
    {
      "cell_type": "markdown",
      "metadata": {
        "id": "KVY-Iw8ldGSM"
      },
      "source": [
        "##수학 모듈(math)\n",
        "- 파이썬에서 수학에 필요한 math 모듈제공"
      ]
    },
    {
      "cell_type": "code",
      "metadata": {
        "colab": {
          "base_uri": "https://localhost:8080/"
        },
        "id": "HNgepUQJdOFs",
        "outputId": "5c247323-66bf-467d-dfce-d92225eab50d"
      },
      "source": [
        "import math \n",
        "print(dir(math))"
      ],
      "execution_count": 32,
      "outputs": [
        {
          "output_type": "stream",
          "name": "stdout",
          "text": [
            "['__doc__', '__loader__', '__name__', '__package__', '__spec__', 'acos', 'acosh', 'asin', 'asinh', 'atan', 'atan2', 'atanh', 'ceil', 'copysign', 'cos', 'cosh', 'degrees', 'e', 'erf', 'erfc', 'exp', 'expm1', 'fabs', 'factorial', 'floor', 'fmod', 'frexp', 'fsum', 'gamma', 'gcd', 'hypot', 'inf', 'isclose', 'isfinite', 'isinf', 'isnan', 'ldexp', 'lgamma', 'log', 'log10', 'log1p', 'log2', 'modf', 'nan', 'pi', 'pow', 'radians', 'remainder', 'sin', 'sinh', 'sqrt', 'tan', 'tanh', 'tau', 'trunc']\n"
          ]
        }
      ]
    },
    {
      "cell_type": "markdown",
      "metadata": {
        "id": "IeY5Kil_daG5"
      },
      "source": [
        "- `math`모듈에서 대표상수"
      ]
    },
    {
      "cell_type": "markdown",
      "metadata": {
        "id": "vokgmum7daQS"
      },
      "source": [
        "- `math`모듈에서 제공하는 대표함수"
      ]
    },
    {
      "cell_type": "code",
      "metadata": {
        "colab": {
          "base_uri": "https://localhost:8080/"
        },
        "id": "fflzhEKedlWP",
        "outputId": "1da83ae8-c2ac-440b-c64f-d44a0a567d02"
      },
      "source": [
        "import math\n",
        "print(math.factorial(3))\n",
        "print(math.gcd(12, 24))\n",
        "print(math.floor(math.pi))\n",
        "print(math.ceil(math.pi))\n",
        "print(math.pow(2, 10))\n",
        "print(math.sqrt(10))\n",
        "print(math.log(10, 2))\n",
        "print(math.degrees(math.pi))\n",
        "print(math.radians(180))\n",
        "print(math.sin(math.radians(90)))\n",
        "print(math.cos(math.radians(180)))"
      ],
      "execution_count": 35,
      "outputs": [
        {
          "output_type": "stream",
          "name": "stdout",
          "text": [
            "6\n",
            "12\n",
            "3\n",
            "4\n",
            "1024.0\n",
            "3.1622776601683795\n",
            "3.3219280948873626\n",
            "180.0\n",
            "3.141592653589793\n",
            "1.0\n",
            "-1.0\n"
          ]
        }
      ]
    },
    {
      "cell_type": "markdown",
      "metadata": {
        "id": "2zaXmH47eZI8"
      },
      "source": [
        "## 순열과 조합 모듈(itertools)\n",
        " - `itertools`모듈에서 곱집합,순열,조합 등을 구하는 함수제공\n",
        " "
      ]
    },
    {
      "cell_type": "code",
      "metadata": {
        "colab": {
          "base_uri": "https://localhost:8080/"
        },
        "id": "kqMYwCk0hr9q",
        "outputId": "13f0a4ca-d2da-4914-d424-df16f18b1f25"
      },
      "source": [
        "import itertools\n",
        "list_1 = ['a','b','c']\n",
        "print(list_1)\n",
        "list_2 = [1, 2]\n",
        "print(list_2)\n",
        "list_cp = list(itertools.product(list_1, list_2))\n",
        "print(list_cp)\n",
        "list_p = list(itertools.permutations(list_1,2))\n",
        "print(list_p)\n",
        "list_c = list(itertools.combinations(list_1, 2))\n",
        "print(list_c)\n",
        "list_cr = list(itertools.combinations_with_replacement(list_1, 2))\n",
        "print(list_cr)"
      ],
      "execution_count": 38,
      "outputs": [
        {
          "output_type": "stream",
          "name": "stdout",
          "text": [
            "['a', 'b', 'c']\n",
            "[1, 2]\n",
            "[('a', 1), ('a', 2), ('b', 1), ('b', 2), ('c', 1), ('c', 2)]\n",
            "[('a', 'b'), ('a', 'c'), ('b', 'a'), ('b', 'c'), ('c', 'a'), ('c', 'b')]\n",
            "[('a', 'b'), ('a', 'c'), ('b', 'c')]\n",
            "[('a', 'a'), ('a', 'b'), ('a', 'c'), ('b', 'b'), ('b', 'c'), ('c', 'c')]\n"
          ]
        }
      ]
    },
    {
      "cell_type": "markdown",
      "metadata": {
        "id": "2kKdUwJGhZIZ"
      },
      "source": [
        "### 통계 모듈(statistics)\n",
        "\n",
        "* `statistics` 모듈에서는 산술평균, 표준편차 등 통계에 필요한 계산 관련 함수들을 제공"
      ]
    },
    {
      "cell_type": "code",
      "metadata": {
        "colab": {
          "base_uri": "https://localhost:8080/"
        },
        "id": "BxwfxJL2jhFb",
        "outputId": "65ad0925-77e3-4eda-86c9-7f5b526b3f21"
      },
      "source": [
        "import statistics\n",
        "values = [56, 44, 67, 82, 67, 92, 89, 81, 82]\n",
        "print(statistics.median(values))\n",
        "print(statistics.mean(values))\n",
        "print(statistics.harmonic_mean(values))\n",
        "print(statistics.stdev(values))\n",
        "print(statistics.variance(values))"
      ],
      "execution_count": 41,
      "outputs": [
        {
          "output_type": "stream",
          "name": "stdout",
          "text": [
            "81\n",
            "73.33333333333333\n",
            "69.61816484209075\n",
            "15.98436736314578\n",
            "255.5\n"
          ]
        }
      ]
    },
    {
      "cell_type": "markdown",
      "metadata": {
        "id": "otrkJQErgvWZ"
      },
      "source": [
        "### 랜덤 모듈(random)\n",
        "\n",
        "* 랜덤 모듈을 사용하기 위해서는 `import random` 필요\n",
        " - `random.random()`:0.0~1.0 미만의 실수값 반환\n",
        " - `random.randint(1, 10)`: 1~10사이의 정수 반환\n",
        " - `random.randrange(0, 10, 2)`:0~10 미만의 2의 배수만 반환\n",
        " - `random.choice()`: 자료형 변수에서 임의의 값 반환\n",
        " - `random.sample()`: 자료형 변수에서 필요한 개수만큼 반환\n",
        " - `random.shuffle()`: 자료형 변수 내용을 랜덤으로 셔플"
      ]
    },
    {
      "cell_type": "code",
      "metadata": {
        "colab": {
          "base_uri": "https://localhost:8080/"
        },
        "id": "bY0C9dI2kWLF",
        "outputId": "ae7685f9-254e-4486-ec95-7d29b3572063"
      },
      "source": [
        "import random\n",
        "print(random.random())\n",
        "print(random.randint(1, 10))\n",
        "print(random.randrange(0, 10, 2))"
      ],
      "execution_count": 42,
      "outputs": [
        {
          "output_type": "stream",
          "name": "stdout",
          "text": [
            "0.35560932338977647\n",
            "7\n",
            "2\n"
          ]
        }
      ]
    },
    {
      "cell_type": "code",
      "metadata": {
        "colab": {
          "base_uri": "https://localhost:8080/"
        },
        "id": "GAfQtieYlzP9",
        "outputId": "1be61378-14f9-4509-e235-7eea3abaca14"
      },
      "source": [
        "li = [10, 20, 30, 40, 50]\n",
        "print(li)\n",
        "print(random.choice(li))\n",
        "print(random.sample(li, 2))\n",
        "random.shuffle(li)\n",
        "print(li)"
      ],
      "execution_count": 43,
      "outputs": [
        {
          "output_type": "stream",
          "name": "stdout",
          "text": [
            "[10, 20, 30, 40, 50]\n",
            "30\n",
            "[20, 10]\n",
            "[40, 10, 20, 50, 30]\n"
          ]
        }
      ]
    },
    {
      "cell_type": "markdown",
      "metadata": {
        "id": "qJRAY-4UhPMh"
      },
      "source": [
        "## 네임스페이스(Namespace)\n",
        "\n",
        "* 모듈 호출의 범위 지정\n",
        "* 모듈 이름에 alias를 생성하여 모듈의 이름을 바꿔 사용"
      ]
    },
    {
      "cell_type": "code",
      "metadata": {
        "colab": {
          "base_uri": "https://localhost:8080/"
        },
        "id": "jnmHYbrmmteG",
        "outputId": "3f10b9e2-eb2b-4b05-bc79-7a91c361288a"
      },
      "source": [
        "import random\n",
        "\n",
        "print(random.random())\n",
        "print(random.randrange(0, 10, 2))\n"
      ],
      "execution_count": 46,
      "outputs": [
        {
          "output_type": "stream",
          "name": "stdout",
          "text": [
            "0.8948193037714579\n",
            "4\n"
          ]
        }
      ]
    },
    {
      "cell_type": "markdown",
      "metadata": {
        "id": "shBIJX1zm9oD"
      },
      "source": [
        "- from구문을 사용하여 모듈에서 특징 함수 또는 클래스만 호출"
      ]
    },
    {
      "cell_type": "code",
      "metadata": {
        "colab": {
          "base_uri": "https://localhost:8080/"
        },
        "id": "Fao4oxpTmudG",
        "outputId": "cc3ac57e-8907-41d0-fb28-6c877e475a15"
      },
      "source": [
        "from random import random, randrange\n",
        "\n",
        "print(random())\n",
        "print(randrange(0, 10, 2))"
      ],
      "execution_count": 47,
      "outputs": [
        {
          "output_type": "stream",
          "name": "stdout",
          "text": [
            "0.4899734496101833\n",
            "2\n"
          ]
        }
      ]
    },
    {
      "cell_type": "markdown",
      "metadata": {
        "id": "PS4XWyxxnNCs"
      },
      "source": [
        "- '*'을 사용하여 모듈 안에 모든 함수,클래스,변수를 가져옴"
      ]
    },
    {
      "cell_type": "code",
      "metadata": {
        "colab": {
          "base_uri": "https://localhost:8080/"
        },
        "id": "rOrrgBTRmugU",
        "outputId": "491070aa-ea3a-4e58-ffdd-ac7086bee053"
      },
      "source": [
        "from random import *\n",
        "\n",
        "print(random())\n",
        "print(randrange(0, 10, 2))"
      ],
      "execution_count": 48,
      "outputs": [
        {
          "output_type": "stream",
          "name": "stdout",
          "text": [
            "0.807438495957267\n",
            "4\n"
          ]
        }
      ]
    },
    {
      "cell_type": "markdown",
      "metadata": {
        "id": "xF9zaTjgni8P"
      },
      "source": [
        "##패키지(Packages)\n",
        "- 패키지는 모듈의 집합\n",
        "- 패키지 안에 여러 모듈이 존재\n",
        "- 모듈을 주제별로 분리할때 사용\n",
        "- 디렉터리와 같이 게츨적인 구조로 관리\n",
        "- 파이썬에서는 패키지가 하나의 라이브러리\n",
        "\n"
      ]
    },
    {
      "cell_type": "markdown",
      "metadata": {
        "id": "AEd0OLiyoLc2"
      },
      "source": [
        "### 패키지 구조예제"
      ]
    },
    {
      "cell_type": "code",
      "metadata": {
        "id": "g-buu72Gnh5i"
      },
      "source": [
        "!mkdir package\n",
        "!mkdir package/sub_package_1\n",
        "!mkdir package/sub_package_2\n",
        "!mkdir package/sub_package_3"
      ],
      "execution_count": 51,
      "outputs": []
    },
    {
      "cell_type": "code",
      "metadata": {
        "colab": {
          "base_uri": "https://localhost:8080/"
        },
        "id": "xR--fXSPokrz",
        "outputId": "2c0c7438-7ac6-4ed0-bab7-8163cda5e350"
      },
      "source": [
        "%%writefile package/sub_package_1/sub_module_1.py\n",
        "def print_module():\n",
        "  print('sub_package_1/sub_module_1')"
      ],
      "execution_count": 52,
      "outputs": [
        {
          "output_type": "stream",
          "name": "stdout",
          "text": [
            "Writing package/sub_package_1/sub_module_1.py\n"
          ]
        }
      ]
    },
    {
      "cell_type": "code",
      "metadata": {
        "colab": {
          "base_uri": "https://localhost:8080/"
        },
        "id": "kxkRBpEgpA4e",
        "outputId": "508f9163-fdd1-4890-dd00-3c7e4cf9874e"
      },
      "source": [
        "%%writefile package/sub_package_2/sub2_module_2.py\n",
        "def print_module():\n",
        "  print('sub_package_2/sub2_module_2')"
      ],
      "execution_count": 53,
      "outputs": [
        {
          "output_type": "stream",
          "name": "stdout",
          "text": [
            "Writing package/sub_package_2/sub2_module_2.py\n"
          ]
        }
      ]
    },
    {
      "cell_type": "markdown",
      "metadata": {
        "id": "vNh-Pe1-pQfW"
      },
      "source": [
        "### 패키지 실행"
      ]
    },
    {
      "cell_type": "code",
      "metadata": {
        "colab": {
          "base_uri": "https://localhost:8080/",
          "height": 352
        },
        "id": "i50b7R6vpScA",
        "outputId": "6ac5f30f-190d-484b-d726-fd43f7daf8d1"
      },
      "source": [
        "from package.sub_package_1 import sub1_module_1, sub1_module_2\n",
        "sub1_module_1.print_module()\n",
        "sub1_module_2.print_module()"
      ],
      "execution_count": 63,
      "outputs": [
        {
          "output_type": "error",
          "ename": "ImportError",
          "evalue": "ignored",
          "traceback": [
            "\u001b[0;31m---------------------------------------------------------------------------\u001b[0m",
            "\u001b[0;31mImportError\u001b[0m                               Traceback (most recent call last)",
            "\u001b[0;32m<ipython-input-63-c192f0464698>\u001b[0m in \u001b[0;36m<module>\u001b[0;34m()\u001b[0m\n\u001b[0;32m----> 1\u001b[0;31m \u001b[0;32mfrom\u001b[0m \u001b[0mpackage\u001b[0m\u001b[0;34m.\u001b[0m\u001b[0msub_package_1\u001b[0m \u001b[0;32mimport\u001b[0m \u001b[0msub1_module_1\u001b[0m\u001b[0;34m,\u001b[0m \u001b[0msub1_module_2\u001b[0m\u001b[0;34m\u001b[0m\u001b[0;34m\u001b[0m\u001b[0m\n\u001b[0m\u001b[1;32m      2\u001b[0m \u001b[0msub1_module_1\u001b[0m\u001b[0;34m.\u001b[0m\u001b[0mprint_module\u001b[0m\u001b[0;34m(\u001b[0m\u001b[0;34m)\u001b[0m\u001b[0;34m\u001b[0m\u001b[0;34m\u001b[0m\u001b[0m\n\u001b[1;32m      3\u001b[0m \u001b[0msub1_module_2\u001b[0m\u001b[0;34m.\u001b[0m\u001b[0mprint_module\u001b[0m\u001b[0;34m(\u001b[0m\u001b[0;34m)\u001b[0m\u001b[0;34m\u001b[0m\u001b[0;34m\u001b[0m\u001b[0m\n",
            "\u001b[0;31mImportError\u001b[0m: cannot import name 'sub1_module_1' from 'package.sub_package_1' (unknown location)",
            "",
            "\u001b[0;31m---------------------------------------------------------------------------\u001b[0;32m\nNOTE: If your import is failing due to a missing package, you can\nmanually install dependencies using either !pip or !apt.\n\nTo view examples of installing some common dependencies, click the\n\"Open Examples\" button below.\n\u001b[0;31m---------------------------------------------------------------------------\u001b[0m\n"
          ],
          "errorDetails": {
            "actions": [
              {
                "action": "open_url",
                "actionText": "Open Examples",
                "url": "/notebooks/snippets/importing_libraries.ipynb"
              }
            ]
          }
        }
      ]
    },
    {
      "cell_type": "code",
      "metadata": {
        "colab": {
          "base_uri": "https://localhost:8080/",
          "height": 352
        },
        "id": "FH_3EXNsqWUf",
        "outputId": "36110e95-f0bf-4a04-ac52-370da2647335"
      },
      "source": [
        "from package.sub_package_2 import sub1_module_1, sub1_module_2\n",
        "sub2_module_1.print_module()\n",
        "sub2_module_2.print_module()"
      ],
      "execution_count": 62,
      "outputs": [
        {
          "output_type": "error",
          "ename": "ImportError",
          "evalue": "ignored",
          "traceback": [
            "\u001b[0;31m---------------------------------------------------------------------------\u001b[0m",
            "\u001b[0;31mImportError\u001b[0m                               Traceback (most recent call last)",
            "\u001b[0;32m<ipython-input-62-d4293a68b23c>\u001b[0m in \u001b[0;36m<module>\u001b[0;34m()\u001b[0m\n\u001b[0;32m----> 1\u001b[0;31m \u001b[0;32mfrom\u001b[0m \u001b[0mpackage\u001b[0m\u001b[0;34m.\u001b[0m\u001b[0msub_package_2\u001b[0m \u001b[0;32mimport\u001b[0m \u001b[0msub1_module_1\u001b[0m\u001b[0;34m,\u001b[0m \u001b[0msub1_module_2\u001b[0m\u001b[0;34m\u001b[0m\u001b[0;34m\u001b[0m\u001b[0m\n\u001b[0m\u001b[1;32m      2\u001b[0m \u001b[0msub2_module_1\u001b[0m\u001b[0;34m.\u001b[0m\u001b[0mprint_module\u001b[0m\u001b[0;34m(\u001b[0m\u001b[0;34m)\u001b[0m\u001b[0;34m\u001b[0m\u001b[0;34m\u001b[0m\u001b[0m\n\u001b[1;32m      3\u001b[0m \u001b[0msub2_module_2\u001b[0m\u001b[0;34m.\u001b[0m\u001b[0mprint_module\u001b[0m\u001b[0;34m(\u001b[0m\u001b[0;34m)\u001b[0m\u001b[0;34m\u001b[0m\u001b[0;34m\u001b[0m\u001b[0m\n",
            "\u001b[0;31mImportError\u001b[0m: cannot import name 'sub1_module_1' from 'package.sub_package_2' (unknown location)",
            "",
            "\u001b[0;31m---------------------------------------------------------------------------\u001b[0;32m\nNOTE: If your import is failing due to a missing package, you can\nmanually install dependencies using either !pip or !apt.\n\nTo view examples of installing some common dependencies, click the\n\"Open Examples\" button below.\n\u001b[0;31m---------------------------------------------------------------------------\u001b[0m\n"
          ],
          "errorDetails": {
            "actions": [
              {
                "action": "open_url",
                "actionText": "Open Examples",
                "url": "/notebooks/snippets/importing_libraries.ipynb"
              }
            ]
          }
        }
      ]
    },
    {
      "cell_type": "code",
      "metadata": {
        "colab": {
          "base_uri": "https://localhost:8080/",
          "height": 352
        },
        "id": "ZVZgcLHpqWa1",
        "outputId": "e504f9ce-f3d6-4d24-ea18-655f0f0c730c"
      },
      "source": [
        "from package.sub_package_3 import sub1_module_1, sub1_module_2\n",
        "sub3_module_1.print_module()\n",
        "sub3_module_2.print_module()"
      ],
      "execution_count": 65,
      "outputs": [
        {
          "output_type": "error",
          "ename": "ImportError",
          "evalue": "ignored",
          "traceback": [
            "\u001b[0;31m---------------------------------------------------------------------------\u001b[0m",
            "\u001b[0;31mImportError\u001b[0m                               Traceback (most recent call last)",
            "\u001b[0;32m<ipython-input-65-f7944409bae1>\u001b[0m in \u001b[0;36m<module>\u001b[0;34m()\u001b[0m\n\u001b[0;32m----> 1\u001b[0;31m \u001b[0;32mfrom\u001b[0m \u001b[0mpackage\u001b[0m\u001b[0;34m.\u001b[0m\u001b[0msub_package_3\u001b[0m \u001b[0;32mimport\u001b[0m \u001b[0msub1_module_1\u001b[0m\u001b[0;34m,\u001b[0m \u001b[0msub1_module_2\u001b[0m\u001b[0;34m\u001b[0m\u001b[0;34m\u001b[0m\u001b[0m\n\u001b[0m\u001b[1;32m      2\u001b[0m \u001b[0msub3_module_1\u001b[0m\u001b[0;34m.\u001b[0m\u001b[0mprint_module\u001b[0m\u001b[0;34m(\u001b[0m\u001b[0;34m)\u001b[0m\u001b[0;34m\u001b[0m\u001b[0;34m\u001b[0m\u001b[0m\n\u001b[1;32m      3\u001b[0m \u001b[0msub3_module_2\u001b[0m\u001b[0;34m.\u001b[0m\u001b[0mprint_module\u001b[0m\u001b[0;34m(\u001b[0m\u001b[0;34m)\u001b[0m\u001b[0;34m\u001b[0m\u001b[0;34m\u001b[0m\u001b[0m\n",
            "\u001b[0;31mImportError\u001b[0m: cannot import name 'sub1_module_1' from 'package.sub_package_3' (unknown location)",
            "",
            "\u001b[0;31m---------------------------------------------------------------------------\u001b[0;32m\nNOTE: If your import is failing due to a missing package, you can\nmanually install dependencies using either !pip or !apt.\n\nTo view examples of installing some common dependencies, click the\n\"Open Examples\" button below.\n\u001b[0;31m---------------------------------------------------------------------------\u001b[0m\n"
          ],
          "errorDetails": {
            "actions": [
              {
                "action": "open_url",
                "actionText": "Open Examples",
                "url": "/notebooks/snippets/importing_libraries.ipynb"
              }
            ]
          }
        }
      ]
    },
    {
      "cell_type": "markdown",
      "metadata": {
        "id": "2_Nl9iTuqu3G"
      },
      "source": [
        "#패키지 구성 파일\n",
        "- __init__.py\n",
        " - 파이썬 패키지를 선언하는 초기화 스크립트\n",
        " - 패키지에 대한 메타데이터에 해당하는 내용 포함\n",
        " - 파이썬의 거의 모든 라이브러리에 포함\n",
        " - 파이썬 버전은 3.3부터는 __init__.py파일이 없어도 패키지로 인식\n",
        " - 파이썬 버전3.3 말의 하위 버전과 호환을 위해 __init__.py파일 생성\n",
        " - __all__이라는 리스트형의 변수에 하위 패키지의 이름을 작성\n",
        " - `__all__= ['sub_package_1','sub_package_2','sub_package_3'`\n",
        " "
      ]
    },
    {
      "cell_type": "code",
      "metadata": {
        "colab": {
          "base_uri": "https://localhost:8080/"
        },
        "id": "OSYDITB4r3Yd",
        "outputId": "2272ce71-8f58-4f43-821d-fe1852c5ba57"
      },
      "source": [
        "%%writefile package/__init__.py\n",
        "__all__ = ['sub_package_1','sub_package_2','sub_package_3']"
      ],
      "execution_count": 66,
      "outputs": [
        {
          "output_type": "stream",
          "name": "stdout",
          "text": [
            "Writing package/__init__.py\n"
          ]
        }
      ]
    },
    {
      "cell_type": "code",
      "metadata": {
        "colab": {
          "base_uri": "https://localhost:8080/"
        },
        "id": "_VvlpqmqsEeo",
        "outputId": "30457bbd-9beb-4b25-8934-f73788f06853"
      },
      "source": [
        "%%writefile package/sub_package_1/__init__\n",
        "__all__ =['sub1_module_1','sub1_module_2']"
      ],
      "execution_count": 68,
      "outputs": [
        {
          "output_type": "stream",
          "name": "stdout",
          "text": [
            "Overwriting package/sub_package_1/__init__\n"
          ]
        }
      ]
    },
    {
      "cell_type": "code",
      "metadata": {
        "colab": {
          "base_uri": "https://localhost:8080/"
        },
        "id": "SFlrfpjLsf-b",
        "outputId": "e0761f18-f670-44c4-daf8-71de7dba6629"
      },
      "source": [
        "%%writefile package/sub_package_2/__init__\n",
        "__all__ =['sub2_module_1','sub2_module_2']"
      ],
      "execution_count": 72,
      "outputs": [
        {
          "output_type": "stream",
          "name": "stdout",
          "text": [
            "Writing package/sub_package_2/__init__\n"
          ]
        }
      ]
    },
    {
      "cell_type": "code",
      "metadata": {
        "colab": {
          "base_uri": "https://localhost:8080/"
        },
        "id": "RKCmysImshYj",
        "outputId": "bbddbfea-f060-4728-ae60-644b0ce50b05"
      },
      "source": [
        "%%writefile package/sub_package_3/__init__\n",
        "__all__ =['sub3_module_1','sub3_module_2']"
      ],
      "execution_count": 71,
      "outputs": [
        {
          "output_type": "stream",
          "name": "stdout",
          "text": [
            "Writing package/sub_package_3/__init__\n"
          ]
        }
      ]
    },
    {
      "cell_type": "code",
      "metadata": {
        "colab": {
          "base_uri": "https://localhost:8080/"
        },
        "id": "71HuCdNQssxb",
        "outputId": "7432194e-655a-4bbe-b0d6-311abc9d34ab"
      },
      "source": [
        "!ls package"
      ],
      "execution_count": 73,
      "outputs": [
        {
          "output_type": "stream",
          "name": "stdout",
          "text": [
            "__init__.py  sub_package_1  sub_package_2  sub_package_3\n"
          ]
        }
      ]
    },
    {
      "cell_type": "code",
      "metadata": {
        "colab": {
          "base_uri": "https://localhost:8080/"
        },
        "id": "bCr1Nm8Xsxjp",
        "outputId": "452466cb-578b-4067-d504-aa4b04fe3e53"
      },
      "source": [
        "!ls package/sub_package_1"
      ],
      "execution_count": 74,
      "outputs": [
        {
          "output_type": "stream",
          "name": "stdout",
          "text": [
            "__init__  sub_module_1.py\n"
          ]
        }
      ]
    },
    {
      "cell_type": "markdown",
      "metadata": {
        "id": "eosmLo8Js2-c"
      },
      "source": [
        "- __main__.py\n",
        " - 패키지 자체를 실행하기 위한 용도\n",
        " - 패키지를 실행시키면 __main__.py 실행"
      ]
    },
    {
      "cell_type": "code",
      "metadata": {
        "colab": {
          "base_uri": "https://localhost:8080/"
        },
        "id": "wueL0mGctBZb",
        "outputId": "99d1da0c-a197-4045-8e0c-c4e7c4f2857c"
      },
      "source": [
        "%%writefile package/__main__.py\n",
        "from sub_package_1 import *\n",
        "from sub_package_2 import *\n",
        "from sub_package_3 import *\n",
        "\n",
        "if __name__ == '__main__':\n",
        "  sub1_module_1.print_module()\n",
        "  sub1_module_2.print_module()\n",
        "  sub2_module_1.print_module()\n",
        "  sub2_module_2.print_module()\n",
        "  sub3_module_1.print_module()\n",
        "  sub3_module_2.print_module()\n"
      ],
      "execution_count": 75,
      "outputs": [
        {
          "output_type": "stream",
          "name": "stdout",
          "text": [
            "Writing package/__main__.py\n"
          ]
        }
      ]
    },
    {
      "cell_type": "code",
      "metadata": {
        "colab": {
          "base_uri": "https://localhost:8080/"
        },
        "id": "u6NJzrBttCDa",
        "outputId": "7dd301ee-9812-49aa-da55-2aca528140f9"
      },
      "source": [
        "!python package"
      ],
      "execution_count": 77,
      "outputs": [
        {
          "output_type": "stream",
          "name": "stdout",
          "text": [
            "Traceback (most recent call last):\n",
            "  File \"/usr/lib/python3.7/runpy.py\", line 193, in _run_module_as_main\n",
            "    \"__main__\", mod_spec)\n",
            "  File \"/usr/lib/python3.7/runpy.py\", line 85, in _run_code\n",
            "    exec(code, run_globals)\n",
            "  File \"package/__main__.py\", line 6, in <module>\n",
            "    sub1_module_1.print_module()\n",
            "NameError: name 'sub1_module_1' is not defined\n"
          ]
        }
      ]
    }
  ]
}