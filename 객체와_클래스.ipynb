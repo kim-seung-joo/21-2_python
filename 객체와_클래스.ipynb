{
  "nbformat": 4,
  "nbformat_minor": 0,
  "metadata": {
    "colab": {
      "name": "객체와 클래스.ipynb",
      "provenance": [],
      "authorship_tag": "ABX9TyMBpP/7IWfQMHLxJRbl7WRQ",
      "include_colab_link": true
    },
    "kernelspec": {
      "name": "python3",
      "display_name": "Python 3"
    },
    "language_info": {
      "name": "python"
    }
  },
  "cells": [
    {
      "cell_type": "markdown",
      "metadata": {
        "id": "view-in-github",
        "colab_type": "text"
      },
      "source": [
        "<a href=\"https://colab.research.google.com/github/kim-seung-joo/21-2_python/blob/main/%EA%B0%9D%EC%B2%B4%EC%99%80_%ED%81%B4%EB%9E%98%EC%8A%A4.ipynb\" target=\"_parent\"><img src=\"https://colab.research.google.com/assets/colab-badge.svg\" alt=\"Open In Colab\"/></a>"
      ]
    },
    {
      "cell_type": "markdown",
      "metadata": {
        "id": "GETtA5o-Orgw"
      },
      "source": [
        "## 객체와 클래스\n",
        "- 객체(object)\n",
        " - 객체 지향 프로그래밍(Object Orienred Programming)\n",
        "- 클래스(Class)\n",
        " - Book 클래스 정의\n",
        " - Book 클래스 메소드 정의\n",
        " "
      ]
    },
    {
      "cell_type": "markdown",
      "metadata": {
        "id": "FGbQ1O1YPVIe"
      },
      "source": [
        "#객체 (Object)\n",
        " - 객체란 존재하는 모든 것들을 의미\n",
        " - 현실 세게는 객체로 이루어져 있고, 모든 사건(event)들은 사물간의 상호작용을 통해 발생\\\n",
        " - 객체란 객체의 속성을 이루는 데이터 뿐만 아니라 그 데이터의 조작방법에 대한 내용도 포함 \n",
        " - 객체는 솟성과 기능을 가지고 있는 것이 핵심 포인트\n",
        " "
      ]
    },
    {
      "cell_type": "markdown",
      "metadata": {
        "id": "BcOy1oGuPx3B"
      },
      "source": [
        "##객체의 구성\n",
        " - Name(이름)\n",
        " -Attributes(속성):변수,데이터\n",
        " - Methods(기능): 함수"
      ]
    },
    {
      "cell_type": "markdown",
      "metadata": {
        "id": "Xh_x8JBoQKLP"
      },
      "source": [
        "# 객체 지향 프로그래밍(Object Oriented Peogramming)\n",
        "* 객체 개념을 다루는 것이 객체 지향\n",
        "* 객체 지향 프로그래밍은 컴퓨터 프로그래밍 기법중 하나(. vs 함수형 프로그래밍, 절차형 프로그래밍) \n",
        "* 프로그램을 단순히 데이터와 처리방법으로 나누는 것이 아니라, 프로그램을 수 많은 '객체'라는 단위로 구분하고, 이 객체들이 상호작용하는 방식\n",
        "* 각각의 객체는 메시지를 주고 받고, 데이터를 처리\n"
      ]
    },
    {
      "cell_type": "markdown",
      "metadata": {
        "id": "IvEAwFRZSr36"
      },
      "source": [
        "#클래스(Class)\n",
        "- 객체의 구성요소를 담는 개념\n",
        "- 여러 개의 속성과 메서드를 포함하는 개념\n",
        "- 객체를 정의하는 틀 또는 설꼐도\n",
        "- 실제 생성된 객체는 인스턴스\n",
        "- 인스턴스는 메모르에 할당된 객체를 의미\n",
        "- 클래스 문법\n",
        "\n",
        "class Name(object):\n",
        "- class: 클래스 정의\n",
        "- Name: 클래스명\n",
        "- objact: 상속받는 객체명"
      ]
    },
    {
      "cell_type": "markdown",
      "metadata": {
        "id": "v6QPukFoT24d"
      },
      "source": [
        "#Book클래스 정의\n",
        "- 클래스 이름: Book\n",
        "- 속성\n",
        " - 저자:author \n",
        " - 책 이름: name\n",
        " - 출판사: publisher\n",
        " - 발행일: date\n",
        "\n"
      ]
    },
    {
      "cell_type": "markdown",
      "metadata": {
        "id": "2VfGxvZtUsTV"
      },
      "source": [
        ""
      ]
    },
    {
      "cell_type": "code",
      "metadata": {
        "id": "a0c8l7TNUso1"
      },
      "source": [
        "class Book(): \n",
        "  author = \"\"\n",
        "  title = \"\"\n",
        "  publisher = \"\"\n",
        "  date = \"\""
      ],
      "execution_count": null,
      "outputs": []
    },
    {
      "cell_type": "code",
      "metadata": {
        "colab": {
          "base_uri": "https://localhost:8080/"
        },
        "id": "Yoapfx-LU7Gz",
        "outputId": "4b71735e-f4eb-4f46-8b78-809a24283844"
      },
      "source": [
        "book = Book() #(인스턴스) book 객체 생성 : 메모리에 로드 \n",
        "book.author = 'ksj'\n",
        "print(book.author)\n",
        "book.title = 'Python programming'\n",
        "print(book.title)"
      ],
      "execution_count": null,
      "outputs": [
        {
          "output_type": "stream",
          "name": "stdout",
          "text": [
            "ksj\n",
            "Python programming\n"
          ]
        }
      ]
    },
    {
      "cell_type": "markdown",
      "metadata": {
        "id": "Q6srl8zNVZku"
      },
      "source": [
        "#Book 클래스 메소드 정의\n",
        "- 메소드\n",
        " - 책 정보 출력: print_into(self)\n",
        " - self가 있어야만 실제로 인스턴스가 사용할 수 있는 메소드로 선언\n",
        " - print_info(self)에서(self)는 실제적으로 book 인스턴스를 의미\n",
        " - 메소드 안에서 속성 값을 사용하지 않을 경우에는 self 생략가능"
      ]
    },
    {
      "cell_type": "code",
      "metadata": {
        "id": "0maUHn_NVY5i"
      },
      "source": [
        "class Book(): \n",
        "   author = \"\"\n",
        "   title = \"\"\n",
        "   publisher = \"\"\n",
        "   date = \"\"\n",
        "\n",
        "   def print_info(self):\n",
        "     print(f'Author:{self.author}')\n",
        "     print(f'Title:{self.title}')"
      ],
      "execution_count": null,
      "outputs": []
    },
    {
      "cell_type": "code",
      "metadata": {
        "colab": {
          "base_uri": "https://localhost:8080/"
        },
        "id": "E3K50Mx5Wko4",
        "outputId": "c4f966da-0b5e-4993-8e43-9c4f728fc090"
      },
      "source": [
        "book = Book()\n",
        "book.author = 'ksj'\n",
        "book.title = 'Python Programming'\n",
        "book.print_info()"
      ],
      "execution_count": null,
      "outputs": [
        {
          "output_type": "stream",
          "name": "stdout",
          "text": [
            "Author:ksj\n",
            "Title:Python Programming\n"
          ]
        }
      ]
    },
    {
      "cell_type": "markdown",
      "metadata": {
        "id": "z3DhFNgCW56P"
      },
      "source": [
        "#인스턴스 속성(Instance Attrobulte)\n",
        "- 인스턴스 속성은 객체로부터 인스턴스가 생성된 후에 인스턴스에서 활용하는 속성"
      ]
    },
    {
      "cell_type": "markdown",
      "metadata": {
        "id": "OS6qGEzNYNFJ"
      },
      "source": [
        "#Book 인스턴스 속성\n",
        " - Book 클래스에서 생성된 인스턴스 b1에서 속성을\n",
        " 활용"
      ]
    },
    {
      "cell_type": "code",
      "metadata": {
        "id": "d8l8FCc4YG2V"
      },
      "source": [
        "class Book():\n",
        "  author = \"\"\n",
        "  title = \"\"\n",
        "  publisher = \"\"\n",
        "  date = \"\"\n",
        "\n",
        "  def print_info(self):\n",
        "    print(f'Author:{self.author}')\n",
        "    print(f'Title:{self.title}')\n",
        "    print(f'Publisher: {self.publisher}')\n",
        "    print(f'Date: {self.dete}')\n"
      ],
      "execution_count": null,
      "outputs": []
    },
    {
      "cell_type": "code",
      "metadata": {
        "id": "MBNk2UdlZNf2"
      },
      "source": [
        "#b1 = Book()\n",
        "b1.author = \"ksj\"\n",
        "b1.title = \"Python Programming\"\n",
        "b1.publisher = \"Colab\"\n",
        "b1.date = '2021'\n",
        "#b1.print_info()\n",
        "\n",
        "#b2 = Book()\n",
        "b2.author = \"suzy\"\n",
        "b2.title = \"Java Scripts programming\"\n",
        "b2.publisher = 'Colab'\n",
        "b2.date = '2022'\n",
        "#b2.print_info()"
      ],
      "execution_count": null,
      "outputs": []
    },
    {
      "cell_type": "markdown",
      "metadata": {
        "id": "mPQifbLfbp6s"
      },
      "source": [
        "## 클래스 속성(Class Attribute)\n",
        " - 클래스 속성은 클래스 자체에서 사용되는 속성\n",
        "## Book 클래스 속성\n",
        " - Book 클래스 자체에서 사용되는 속성\n",
        " "
      ]
    },
    {
      "cell_type": "code",
      "metadata": {
        "id": "uD4cWlUacvlk"
      },
      "source": [
        "class Book():\n",
        "  author = \"\"\n",
        "  title = \"\"\n",
        "  publisher = \"\"\n",
        "  date = \"\"\n",
        " \n",
        "\n",
        "  def print_info(self):\n",
        "    print(f'Author:{self.author}')\n",
        "    print(f'Title:{self.title}')\n",
        "    print(f'Publisher: {self.publisher}')\n",
        "    print(f'Date: {self.dete}')"
      ],
      "execution_count": null,
      "outputs": []
    },
    {
      "cell_type": "code",
      "metadata": {
        "id": "i0ykoLEdab0e"
      },
      "source": [
        "#b1 = Book()\n",
        "Book.author = \"ksj\"\n",
        "Book.title = \"python programming\"\n",
        "Book.publisher = \"Colab\"\n",
        "Book.date = '2021'\n",
        "#b1.print_info()"
      ],
      "execution_count": null,
      "outputs": []
    },
    {
      "cell_type": "markdown",
      "metadata": {
        "id": "af4hqy8kdprg"
      },
      "source": [
        "# Book 인스턴스 속성과 클래스속성\n",
        "- 인스턴스 속성\n",
        "  - 저자: author\n",
        "  - 제목:title\n",
        "  - 출판사:publisher\n",
        "  - 발행일: date\n",
        "\n",
        "- 클래스 속성\n",
        " - 수량:count\n"
      ]
    },
    {
      "cell_type": "code",
      "metadata": {
        "id": "7Lr9RCRrdi7S"
      },
      "source": [
        "  class Book(object):\n",
        "    author = \"\"\n",
        "    title = \"\"\n",
        "    publisher = \"\"\n",
        "    date = \"\"\n",
        "    count = 0\n",
        "\n",
        "  def print_info(self):\n",
        "    print(f'Author:{self.author}')\n",
        "    print(f'Title:{self.title}')\n",
        "    print(f'Publisher: {self.publisher}')\n",
        "    print(f'Date: {self.dete}')"
      ],
      "execution_count": null,
      "outputs": []
    },
    {
      "cell_type": "code",
      "metadata": {
        "colab": {
          "base_uri": "https://localhost:8080/",
          "height": 226
        },
        "id": "UnWEU48geRo0",
        "outputId": "038181d0-0eb4-4e65-9080-5df5a85166a7"
      },
      "source": [
        "b1 = Book()\n",
        "Book.count += 1\n",
        "b1.author = 'ksj'\n",
        "b1.title = 'python programming'\n",
        "b1.publisher = 'Colab'\n",
        "b1.date = '2021'\n",
        "#b1.print_info()\n",
        "print(f\"Number of Books: {str(Book.count)}\")"
      ],
      "execution_count": null,
      "outputs": [
        {
          "output_type": "error",
          "ename": "AttributeError",
          "evalue": "ignored",
          "traceback": [
            "\u001b[0;31m---------------------------------------------------------------------------\u001b[0m",
            "\u001b[0;31mAttributeError\u001b[0m                            Traceback (most recent call last)",
            "\u001b[0;32m<ipython-input-64-6bc891a89cde>\u001b[0m in \u001b[0;36m<module>\u001b[0;34m()\u001b[0m\n\u001b[1;32m      5\u001b[0m \u001b[0mb1\u001b[0m\u001b[0;34m.\u001b[0m\u001b[0mpublisher\u001b[0m \u001b[0;34m=\u001b[0m \u001b[0;34m'Colab'\u001b[0m\u001b[0;34m\u001b[0m\u001b[0;34m\u001b[0m\u001b[0m\n\u001b[1;32m      6\u001b[0m \u001b[0mb1\u001b[0m\u001b[0;34m.\u001b[0m\u001b[0mdate\u001b[0m \u001b[0;34m=\u001b[0m \u001b[0;34m'2021'\u001b[0m\u001b[0;34m\u001b[0m\u001b[0;34m\u001b[0m\u001b[0m\n\u001b[0;32m----> 7\u001b[0;31m \u001b[0mb1\u001b[0m\u001b[0;34m.\u001b[0m\u001b[0mprint_info\u001b[0m\u001b[0;34m(\u001b[0m\u001b[0;34m)\u001b[0m\u001b[0;34m\u001b[0m\u001b[0;34m\u001b[0m\u001b[0m\n\u001b[0m\u001b[1;32m      8\u001b[0m \u001b[0mprint\u001b[0m\u001b[0;34m(\u001b[0m\u001b[0;34mf\"Number of Books: {str(Book.count)}\"\u001b[0m\u001b[0;34m)\u001b[0m\u001b[0;34m\u001b[0m\u001b[0;34m\u001b[0m\u001b[0m\n",
            "\u001b[0;31mAttributeError\u001b[0m: 'Book' object has no attribute 'print_info'"
          ]
        }
      ]
    },
    {
      "cell_type": "markdown",
      "metadata": {
        "id": "Kt0HlZTsbJrx"
      },
      "source": [
        "## 클래스 매직 메소드(Class Masic Methods)\n",
        "- '_'를 2개를 붙여서 매직 메서드 또는 속성에 사용가능\n",
        "- '__'(던더)을 속성 앞에 붙이면 가시성을 위한 속성으로 사용\n",
        "- 클래스 매직 메서드의 종류\n",
        "\n",
        " `__init__`: 객체의 초기화를 위해 클래스 생성시 호출되는 동작을 정의<br>\n",
        "\n",
        " `__str__`: 클래스의 인스턴스에서 str()이 호출될때의 동작을 정의\n",
        "\n",
        " `__rept__`: 클래스의 인스턴스에서 repr()이 호출될때의 동작을 정의\n",
        "\n",
        " `__new__`: 객체의 인스턴스에서 rept()이 호출될때의 동작을 정의\n",
        "\n",
        " `__del__` : 객체가 소멸될때 호출되는 메서드\n",
        "\n",
        " `__dir__`: 클래스의 인스턴스에서 dir()이 호출될때의 동작을 정의\n",
        "\n",
        " `__getattr__`: 존재하지 않는 속성에 액세스하려고 시도할때 행위를 정의\n",
        "\n",
        " `__sedattr__`: 캡슐화를 위한 방벙 정의\n",
        "\n",
        " `__add__`: 두 인스턴스의 더하기가 일어날 떄 실행되는 동작 정의\n",
        "\n",
        " `__it__. __le__. __gt__. __ge__. __eq__. __ne__`: 인스턴스 간의 <,<=,>,>=,==,!= 비교 메서드\n",
        "\n"
      ]
    },
    {
      "cell_type": "markdown",
      "metadata": {
        "id": "-GFJK5QaeJl8"
      },
      "source": [
        "# `__init__()`\n",
        "\n",
        " - `__init__()` 메소드를 이용하여 클래스의 속성들을 초기화"
      ]
    },
    {
      "cell_type": "code",
      "metadata": {
        "id": "16pTzQN6eqK9"
      },
      "source": [
        "class Book():\n",
        "  count = 0\n",
        "\n",
        "  def __init__(self, auther, title, publisher, date):\n",
        "    self.auther = auther\n",
        "    self.title = title\n",
        "    self.publisher = publisher\n",
        "    self.date = date\n",
        "    Book.count += 1\n",
        "\n",
        "  def print_info(self):\n",
        "     print(f'Author:{self.author}')\n",
        "     print(f'Title:{self.title}')\n",
        "     print(f'Publisher: {self.publisher}')\n",
        "     print(f'Date: {self.dete}')\n",
        "    \n"
      ],
      "execution_count": null,
      "outputs": []
    },
    {
      "cell_type": "code",
      "metadata": {
        "colab": {
          "base_uri": "https://localhost:8080/"
        },
        "id": "FAiUIPYGfxNe",
        "outputId": "ca9c45ed-b640-4461-aa79-7fcc6b06359f"
      },
      "source": [
        "book = Book('ksj', 'Python Programming', 'Colab', '2021')\n",
        "#book.print_info()\n",
        "print(f'Number of Books: {str(Book.count)}')"
      ],
      "execution_count": null,
      "outputs": [
        {
          "output_type": "stream",
          "name": "stdout",
          "text": [
            "Number of Books: 9\n"
          ]
        }
      ]
    },
    {
      "cell_type": "markdown",
      "metadata": {
        "id": "zALRPTFQigXa"
      },
      "source": [
        "`__str__()`\n",
        "\n",
        "- `__str__()` 메소드를 이용하여 인스턴스 출력"
      ]
    },
    {
      "cell_type": "code",
      "metadata": {
        "id": "UhezP2n-jmbc"
      },
      "source": [
        "class Book():\n",
        "  count = 0\n",
        "\n",
        "  def __init__(self, auther, title, publisher, date):\n",
        "    self.auther = auther\n",
        "    self.title = title\n",
        "    self.publisher = publisher\n",
        "    self.date = date\n",
        "    Book.count += 1\n",
        "\n",
        "  def __str__(self):\n",
        "    return('Author: ' + self.auther + \\\n",
        "           'WnTitle: ' + self.title + \\\n",
        "           'Wnpublisher: ' + self.publisher + \\\n",
        "           'WnDate: '+ self.date)"
      ],
      "execution_count": null,
      "outputs": []
    },
    {
      "cell_type": "code",
      "metadata": {
        "colab": {
          "base_uri": "https://localhost:8080/"
        },
        "id": "xzDy2dVoky86",
        "outputId": "6d818801-9150-4678-b87d-e0c4c3e6b14e"
      },
      "source": [
        "book = Book('ksj', 'Python Programming', 'Colab', '2021')\n",
        "print(book)\n",
        "print(f'Number of Books: {str(Book.count)}')"
      ],
      "execution_count": null,
      "outputs": [
        {
          "output_type": "stream",
          "name": "stdout",
          "text": [
            "Author: ksjWnTitle: Python ProgrammingWnpublisher: ColabWnDate: 2021\n",
            "Number of Books: 5\n"
          ]
        }
      ]
    },
    {
      "cell_type": "markdown",
      "metadata": {
        "id": "lbtH3OaGlTNo"
      },
      "source": [
        "\n",
        "##매직 메소드 예제\n",
        " - Line 클래스\n"
      ]
    },
    {
      "cell_type": "code",
      "metadata": {
        "id": "J5FdvAA2llTH"
      },
      "source": [
        "class Line():\n",
        "  length = 0\n",
        "\n",
        "  def __init__(self, length):\n",
        "    self.length = length\n",
        "    print(self.length, '길이의 선 생성')\n",
        "\n",
        "  def __del__(self):\n",
        "    print(self.length, ' 길이의 선 제거')\n",
        "\n",
        "  def __repr__(self):\n",
        "    return str(self.length)\n",
        "\n",
        "  def __add__(self, other):\n",
        "    return self.length + other.length\n",
        "\n",
        "  def __it__(self, other):\n",
        "    return self.length < other.length\n",
        "\n",
        "  def __le__(self, other):\n",
        "    return self.length <= other.length\n",
        "\n",
        "  def __gt__(self, other):\n",
        "    return self.length <= other.length\n",
        "\n",
        "  def __ge__(self, other):\n",
        "    return self.length <= other.length\n",
        "\n",
        "  def __eq__(self, other):\n",
        "    return self.length <= other.length\n",
        "\n",
        "  def __ne__(self, other):\n",
        "    return self.length <= other.length\n",
        " "
      ],
      "execution_count": null,
      "outputs": []
    },
    {
      "cell_type": "code",
      "metadata": {
        "colab": {
          "base_uri": "https://localhost:8080/"
        },
        "id": "TTCZDI1dnLIo",
        "outputId": "5844ae3e-0b50-452d-b492-bf4c6f56c8dc"
      },
      "source": [
        "l1 = Line(100)\n",
        "print(l1)\n",
        "\n",
        "l2 = Line(270)\n",
        "print(l2)\n",
        "\n",
        "print('선의 합:', l1 + l2)\n",
        "\n",
        "if l1 < l2:\n",
        "  print(l1, '<' ,l2)\n",
        "elif l1 <= l2:\n",
        "  print(l1, '<=' ,l2)\n",
        "elif l1 > l2:\n",
        "  print(l1, '>' ,l2)\n",
        "elif l1 >= l2:\n",
        "  print(l1, '>=' ,l2)\n",
        "elif l1 == l2:\n",
        "  print(l1, '==' ,l2)\n",
        "elif l1 != l2:\n",
        "  print(l1, '!=', l2)\n",
        "else:\n",
        "  pass\n",
        "\n",
        "del(l1)\n",
        "del(l2)"
      ],
      "execution_count": null,
      "outputs": [
        {
          "output_type": "stream",
          "name": "stdout",
          "text": [
            "100 길이의 선 생성\n",
            "100\n",
            "270 길이의 선 생성\n",
            "270\n",
            "선의 합: 370\n",
            "100 <= 270\n",
            "100  길이의 선 제거\n",
            "270  길이의 선 제거\n"
          ]
        }
      ]
    },
    {
      "cell_type": "markdown",
      "metadata": {
        "id": "IQZss3fArrwN"
      },
      "source": [
        "## 가시성 예제\n",
        "\n",
        " - `__items` 속성은 Box 객체 외부에서 보이지 않도록  \n",
        " \n",
        " - 캡슐화와 `__items` 속성에 접근하면 속성 오류 발생\n"
      ]
    },
    {
      "cell_type": "code",
      "metadata": {
        "id": "18V5soDqsWsy"
      },
      "source": [
        "class Box():\n",
        "  def __init__(self, name):\n",
        "    self.name = name\n",
        "    self.__items = []\n",
        "\n",
        "  def add_item(self,item):\n",
        "    self.__items.append(item)\n",
        "    print('아이템 추가')\n",
        "\n",
        "  def get_number_of_item(self):\n",
        "    return len(self.__items)"
      ],
      "execution_count": null,
      "outputs": []
    },
    {
      "cell_type": "code",
      "metadata": {
        "colab": {
          "base_uri": "https://localhost:8080/"
        },
        "id": "QDLgxS5ptTy_",
        "outputId": "625c1342-cf55-420d-bb5e-843584062d02"
      },
      "source": [
        "box = Box('Box')\n",
        "box.add_item('item1')\n",
        "box.add_item('item2')\n",
        "print(box.name)\n",
        "print(box.get_number_of_item())\n",
        " #print(box._items)"
      ],
      "execution_count": null,
      "outputs": [
        {
          "output_type": "stream",
          "name": "stdout",
          "text": [
            "아이템 추가\n",
            "아이템 추가\n",
            "Box\n",
            "2\n"
          ]
        }
      ]
    }
  ]
}