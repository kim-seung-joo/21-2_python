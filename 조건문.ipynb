{
  "nbformat": 4,
  "nbformat_minor": 0,
  "metadata": {
    "colab": {
      "name": "Untitled2.ipynb",
      "provenance": [],
      "authorship_tag": "ABX9TyOjIajKphOIYBdlltSX3cGV",
      "include_colab_link": true
    },
    "kernelspec": {
      "name": "python3",
      "display_name": "Python 3"
    },
    "language_info": {
      "name": "python"
    }
  },
  "cells": [
    {
      "cell_type": "markdown",
      "metadata": {
        "id": "view-in-github",
        "colab_type": "text"
      },
      "source": [
        "<a href=\"https://colab.research.google.com/github/kim-seung-joo/21-2_python/blob/main/%EC%A1%B0%EA%B1%B4%EB%AC%B8.ipynb\" target=\"_parent\"><img src=\"https://colab.research.google.com/assets/colab-badge.svg\" alt=\"Open In Colab\"/></a>"
      ]
    },
    {
      "cell_type": "markdown",
      "metadata": {
        "id": "5rXcuDnVczrz"
      },
      "source": [
        "##**학습목표**\n",
        "- 조건문의 이해와 활용\n"
      ]
    },
    {
      "cell_type": "markdown",
      "metadata": {
        "id": "jRqJHGYAd8Nj"
      },
      "source": [
        "##**조건문(if)**\n",
        "- 특정 조건을 만족하는 경우에 수행할 작업을 \n",
        "만들 때 사용\n",
        "- 참, 거짓으로 표현된다.\n",
        "- if, elif. else 키워드 사용\n",
        "- 조건문의 경우, 들여쓰기로 하나의 블록을 만들고\n",
        "  여러 중속된 코드를 사용해 중첩코드가 가능\n",
        "- '블록(block)': 들여쓰기 된 코드\n",
        "- 모든 블록의 시작과 마지막에는 (클론:colon) 이 필요하다."
      ]
    },
    {
      "cell_type": "code",
      "metadata": {
        "colab": {
          "base_uri": "https://localhost:8080/"
        },
        "id": "YM7in_KmdwTp",
        "outputId": "a0337274-1cf5-4249-d205-665ed3758305"
      },
      "source": [
        "if 20>10 : #참입니다 \n",
        " print('참입니다.') \n",
        "else :\n",
        " print('거짓입니다.')"
      ],
      "execution_count": 13,
      "outputs": [
        {
          "output_type": "stream",
          "name": "stdout",
          "text": [
            "참입니다.\n"
          ]
        }
      ]
    },
    {
      "cell_type": "markdown",
      "metadata": {
        "id": "3I86kSnhgD5N"
      },
      "source": [
        "##**if , else**\n",
        "- if가 아닌 경우, 나머지 조건을 표현하고 싶을 때\n",
        "- if 조건이 참(true)이면, if 블록안의 코드가 수행\n",
        " - 거짓(false)인 경우 else블록 안의 코드 수행\n",
        " - 주의! if와 else 사이에는 다른 코드가 삽입불가 \n",
        " "
      ]
    },
    {
      "cell_type": "code",
      "metadata": {
        "colab": {
          "base_uri": "https://localhost:8080/"
        },
        "id": "ICvoOtGthnCC",
        "outputId": "4f8fff79-bb8d-437f-92ff-291392754904"
      },
      "source": [
        "#어떤 수에 대해 짝수인 경우 '짝수!' 를 출력 \n",
        "#홀수인 경우 '홀수!' 를 출력하는 프로그램 작성하시오.\n",
        "\n",
        "a = 100\n",
        "\n",
        "if a % 2 == 0 :\n",
        "  print('짝수')\n",
        "else : \n",
        "  print('홀수')"
      ],
      "execution_count": 16,
      "outputs": [
        {
          "output_type": "stream",
          "name": "stdout",
          "text": [
            "짝수\n"
          ]
        }
      ]
    },
    {
      "cell_type": "markdown",
      "metadata": {
        "id": "jVfC1kTpn3Dn"
      },
      "source": [
        "##**if.elif,else**\n",
        "- 조건이 여러개인 경우,해당 조건을 elif블록에서 명시\n",
        "- 각 조건을 확인후 , ture 조건의 코드 블록을 실행을 한후 전체 구문을 종료\n",
        "\n"
      ]
    },
    {
      "cell_type": "code",
      "metadata": {
        "colab": {
          "base_uri": "https://localhost:8080/"
        },
        "id": "EPJjBu_IoYUa",
        "outputId": "7462e1b8-332d-4d72-e1aa-0a4f3eb2356d"
      },
      "source": [
        "score = 70\n",
        "\n",
        "if score >= 90 :\n",
        "  print('성적: A')\n",
        "if score >= 80 :\n",
        "  print('성적: B')\n",
        "elif score >= 60 :\n",
        "  print('성적: C')\n",
        "elif score >= 70 :\n",
        "  print('성적: D')\n",
        "\n",
        "else : \n",
        "  print('성적: F')\n",
        "print('수고하셨습니다.')\n"
      ],
      "execution_count": 22,
      "outputs": [
        {
          "output_type": "stream",
          "name": "stdout",
          "text": [
            "성적: C\n"
          ]
        }
      ]
    },
    {
      "cell_type": "code",
      "metadata": {
        "id": "cqddzIgerbNY"
      },
      "source": [
        ""
      ],
      "execution_count": null,
      "outputs": []
    }
  ]
}