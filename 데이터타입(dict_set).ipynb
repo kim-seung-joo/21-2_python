{
  "nbformat": 4,
  "nbformat_minor": 0,
  "metadata": {
    "colab": {
      "name": "데이터타입(dict.set).ipynb",
      "provenance": [],
      "authorship_tag": "ABX9TyO1932/l27zZIyaVWBsqIfH",
      "include_colab_link": true
    },
    "kernelspec": {
      "name": "python3",
      "display_name": "Python 3"
    },
    "language_info": {
      "name": "python"
    }
  },
  "cells": [
    {
      "cell_type": "markdown",
      "metadata": {
        "id": "view-in-github",
        "colab_type": "text"
      },
      "source": [
        "<a href=\"https://colab.research.google.com/github/kim-seung-joo/21-2_python/blob/main/%EB%8D%B0%EC%9D%B4%ED%84%B0%ED%83%80%EC%9E%85(dict_set).ipynb\" target=\"_parent\"><img src=\"https://colab.research.google.com/assets/colab-badge.svg\" alt=\"Open In Colab\"/></a>"
      ]
    },
    {
      "cell_type": "markdown",
      "metadata": {
        "id": "194PkVvXyUYr"
      },
      "source": [
        "학습목표\n",
        "- dictionary, set에 대해 이해하기 "
      ]
    },
    {
      "cell_type": "markdown",
      "metadata": {
        "id": "UDTOxgTZygVx"
      },
      "source": [
        "dictionary(딕셔너리)\n",
        "- 키와 값을 갖는 데이터구조\n",
        "- 키는 내부적으로 hash값으로 저장\n",
        "- 순서를 따지지 않음."
      ]
    },
    {
      "cell_type": "code",
      "metadata": {
        "colab": {
          "base_uri": "https://localhost:8080/"
        },
        "id": "irBwnujQzKRR",
        "outputId": "1d40435b-237c-423d-e98f-ef74558e28eb"
      },
      "source": [
        "a = {'korea': 'seoul',\n",
        "    'cananda': 'ottawa',\n",
        "    'usa' :'washington d.c'}\n",
        "b = {0:1,1:6,7:9,8:10}\n",
        "print(a['korea'])\n",
        "print(b[0])\n",
        "\n"
      ],
      "execution_count": 5,
      "outputs": [
        {
          "output_type": "stream",
          "name": "stdout",
          "text": [
            "seoul\n",
            "1\n"
          ]
        }
      ]
    },
    {
      "cell_type": "markdown",
      "metadata": {
        "id": "kF6xU_eL0Q3q"
      },
      "source": [
        "## **항목 추가 및 변경**\n",
        "- 기존에 키가 존재하면, 새로운 값으로 업데이트 \n",
        "- 기존에 키가 존재하지 않으면 새로운 키가 값으로 생성\n"
      ]
    },
    {
      "cell_type": "code",
      "metadata": {
        "colab": {
          "base_uri": "https://localhost:8080/"
        },
        "id": "gxXVQoY60W4Q",
        "outputId": "6fd424b7-9be7-4bf2-fa7b-b63cf767f006"
      },
      "source": [
        "a[' japan '] = 'Tokyo'\n",
        "a[' japan '] = 'osaka'\n",
        "a[' China '] = 'baijing'\n",
        "\n",
        "print(a)"
      ],
      "execution_count": 9,
      "outputs": [
        {
          "output_type": "stream",
          "name": "stdout",
          "text": [
            "{'korea': 'seoul', 'cananda': 'ottawa', 'usa': 'washington d.c', ' japan ': 'osaka', ' China ': 'baijing'}\n"
          ]
        }
      ]
    },
    {
      "cell_type": "markdown",
      "metadata": {
        "id": "xWc87vhS1dfb"
      },
      "source": [
        "- update()\n",
        "  - 두 딕셔너리를 병합\n",
        "  - 겹치는 키가 있다면, 전달되는 값이 업데이트된다."
      ]
    },
    {
      "cell_type": "code",
      "metadata": {
        "colab": {
          "base_uri": "https://localhost:8080/"
        },
        "id": "vX_yNNGv1q2g",
        "outputId": "9c27e6f0-3044-4bf6-d91e-64ddecdfb327"
      },
      "source": [
        "a = {'a' : 'apple', 'b' : 'bus', 'c' : 'car'}\n",
        "b = {'a' : 'ant', 'd' : 'dog', 'e' : 'egg'}\n",
        "a.update(b)\n",
        "print(a)"
      ],
      "execution_count": 11,
      "outputs": [
        {
          "output_type": "stream",
          "name": "stdout",
          "text": [
            "{'a': 'ant', 'b': 'bus', 'c': 'car', 'd': 'dog', 'e': 'egg'}\n"
          ]
        }
      ]
    },
    {
      "cell_type": "markdown",
      "metadata": {
        "id": "Wi9vfvmQ2Of7"
      },
      "source": [
        "### **key삭제**\n",
        "- del 키워드\n",
        "- pop 함수사용"
      ]
    },
    {
      "cell_type": "code",
      "metadata": {
        "colab": {
          "base_uri": "https://localhost:8080/"
        },
        "id": "wzjoxTnZ2W7i",
        "outputId": "e77ca956-24f6-44e3-e681-0f23e76c58e6"
      },
      "source": [
        "a = {'a':1, 'b':2, 'c':3}\n",
        "print(a)\n",
        "\n",
        "d = a.pop('b')\n",
        "print(a)\n",
        "print(d)\n",
        "\n",
        "del a['c']\n",
        "print(a)"
      ],
      "execution_count": 16,
      "outputs": [
        {
          "output_type": "stream",
          "name": "stdout",
          "text": [
            "{'a': 1, 'b': 2, 'c': 3}\n",
            "{'a': 1, 'c': 3}\n",
            "2\n",
            "{'a': 1}\n"
          ]
        }
      ]
    },
    {
      "cell_type": "markdown",
      "metadata": {
        "id": "hvay5LWA3BwS"
      },
      "source": [
        "###clear()\n",
        "- 딕셔너리 값을 모두 초기화 시킨다."
      ]
    },
    {
      "cell_type": "code",
      "metadata": {
        "colab": {
          "base_uri": "https://localhost:8080/"
        },
        "id": "kTAZHnb03SlN",
        "outputId": "08c16e9e-9cde-49e7-c389-77765f396930"
      },
      "source": [
        "a[ 'add' ]=3\n",
        "print(a)\n",
        "a.clear()\n",
        "print(a)"
      ],
      "execution_count": 20,
      "outputs": [
        {
          "output_type": "stream",
          "name": "stdout",
          "text": [
            "{'add': 3}\n",
            "{}\n"
          ]
        }
      ]
    },
    {
      "cell_type": "markdown",
      "metadata": {
        "id": "Tvas5PHe8tdA"
      },
      "source": [
        "##**in**\n",
        "- key 값 존재 확인\n",
        "-"
      ]
    },
    {
      "cell_type": "code",
      "metadata": {
        "colab": {
          "base_uri": "https://localhost:8080/"
        },
        "id": "w2MO_Zw78mfp",
        "outputId": "40e25d95-7851-4846-fc26-100b937bde48"
      },
      "source": [
        "a = {'a':1, 'b':2, 'c':3}\n",
        "print(2 in a)\n",
        "print('a' in a)\n"
      ],
      "execution_count": 22,
      "outputs": [
        {
          "output_type": "stream",
          "name": "stdout",
          "text": [
            "False\n",
            "True\n"
          ]
        }
      ]
    },
    {
      "cell_type": "markdown",
      "metadata": {
        "id": "WVeyYvb29iWe"
      },
      "source": [
        "- dict[key]로 접근, 키가 없는 경우에는 에러\n",
        "- get() 함수로 접근, 키가 없는 경우에도 프로그램이 실행한다. -> None 빈환\n"
      ]
    },
    {
      "cell_type": "code",
      "metadata": {
        "colab": {
          "base_uri": "https://localhost:8080/"
        },
        "id": "2IBTHUip9Oif",
        "outputId": "3f5a4332-d168-4f59-aaae-405d76b6fe77"
      },
      "source": [
        "a = {'a':1, 'b':2, 'c':3}\n",
        "print(a.get('d'))"
      ],
      "execution_count": 24,
      "outputs": [
        {
          "output_type": "stream",
          "name": "stdout",
          "text": [
            "None\n"
          ]
        }
      ]
    },
    {
      "cell_type": "markdown",
      "metadata": {
        "id": "F-5BNOnP-aXP"
      },
      "source": [
        "## **모든 keys, values 접근**\n",
        "- key() -  키만 반환\n",
        "- values() - 값만 반환\n",
        "- items() - 키, 값의 튜플을 반홤"
      ]
    },
    {
      "cell_type": "code",
      "metadata": {
        "colab": {
          "base_uri": "https://localhost:8080/"
        },
        "id": "bljlx6Dz_P1f",
        "outputId": "023b5b82-ea08-4b0c-9bad-edcfc14aa962"
      },
      "source": [
        "a = {'a':1, 'b':2, 'c':3}\n",
        "print(a)\n",
        "print(a.keys())\n",
        "print(a.values())\n",
        "print(a.items())"
      ],
      "execution_count": 25,
      "outputs": [
        {
          "output_type": "stream",
          "name": "stdout",
          "text": [
            "{'a': 1, 'b': 2, 'c': 3}\n",
            "dict_keys(['a', 'b', 'c'])\n",
            "dict_values([1, 2, 3])\n",
            "dict_items([('a', 1), ('b', 2), ('c', 3)])\n"
          ]
        }
      ]
    },
    {
      "cell_type": "markdown",
      "metadata": {
        "id": "_mEiLFAmAD3v"
      },
      "source": [
        "###**set**\n",
        "- dictionary에서 key만 활용한 데이터 구조()\n",
        "- 중복이 허용되지 않는 구조"
      ]
    },
    {
      "cell_type": "code",
      "metadata": {
        "colab": {
          "base_uri": "https://localhost:8080/"
        },
        "id": "-9Pqh5YhAPy9",
        "outputId": "e2a27356-f5d8-4827-ecbe-dbaa24713e6d"
      },
      "source": [
        "a = {1,1,1,1,2,2,2,2,3,3,3,3,3,3,3,3,3,3,3,33,3,3,3,3,3,3,3,3}\n",
        "print(a)\n"
      ],
      "execution_count": 29,
      "outputs": [
        {
          "output_type": "stream",
          "name": "stdout",
          "text": [
            "{1, 2, 3, 33}\n"
          ]
        }
      ]
    },
    {
      "cell_type": "code",
      "metadata": {
        "colab": {
          "base_uri": "https://localhost:8080/"
        },
        "id": "SY4ik2_rAuom",
        "outputId": "c73554ff-36b4-4bfc-93d8-a42e5ed9d254"
      },
      "source": [
        "a = [1,2,4,3,2,1,4,3,2,1,4]\n",
        "print(a)\n",
        "\n",
        "b = set(a)\n",
        "print(b)"
      ],
      "execution_count": 30,
      "outputs": [
        {
          "output_type": "stream",
          "name": "stdout",
          "text": [
            "[1, 2, 4, 3, 2, 1, 4, 3, 2, 1, 4]\n",
            "{1, 2, 3, 4}\n"
          ]
        }
      ]
    },
    {
      "cell_type": "code",
      "metadata": {
        "colab": {
          "base_uri": "https://localhost:8080/"
        },
        "id": "7umzzoKOBkRx",
        "outputId": "3efe1f01-09dd-446d-ad52-92703559895a"
      },
      "source": [
        "a = {1,2,3}\n",
        "b = {2,3,4}\n",
        "\n",
        "print(a.union(b))#합집합\n",
        "print(a.intersection(b))#교집합\n",
        "print(a.difference(b))#차집합"
      ],
      "execution_count": 36,
      "outputs": [
        {
          "output_type": "stream",
          "name": "stdout",
          "text": [
            "{1, 2, 3, 4}\n",
            "{2, 3}\n",
            "{1}\n"
          ]
        }
      ]
    },
    {
      "cell_type": "code",
      "metadata": {
        "id": "qIS6YBapCQP1"
      },
      "source": [
        ""
      ],
      "execution_count": null,
      "outputs": []
    },
    {
      "cell_type": "code",
      "metadata": {
        "id": "InD1Cpw4CWcg"
      },
      "source": [
        ""
      ],
      "execution_count": null,
      "outputs": []
    }
  ]
}