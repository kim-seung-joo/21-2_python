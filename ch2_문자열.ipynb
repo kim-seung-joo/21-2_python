{
  "nbformat": 4,
  "nbformat_minor": 0,
  "metadata": {
    "colab": {
      "name": "Untitled0.ipynb",
      "provenance": [],
      "authorship_tag": "ABX9TyOLK/NZtvGwSCHW6Cl66pGv",
      "include_colab_link": true
    },
    "kernelspec": {
      "name": "python3",
      "display_name": "Python 3"
    },
    "language_info": {
      "name": "python"
    }
  },
  "cells": [
    {
      "cell_type": "markdown",
      "metadata": {
        "id": "view-in-github",
        "colab_type": "text"
      },
      "source": [
        "<a href=\"https://colab.research.google.com/github/kim-seung-joo/21-2_python/blob/main/ch2_%EB%AC%B8%EC%9E%90%EC%97%B4.ipynb\" target=\"_parent\"><img src=\"https://colab.research.google.com/assets/colab-badge.svg\" alt=\"Open In Colab\"/></a>"
      ]
    },
    {
      "cell_type": "markdown",
      "metadata": {
        "id": "DhFKmgyLEjAL"
      },
      "source": [
        "##**문자열(string)**\n",
        "- 여러개의 문자를 순서대로 나열한 것\n",
        "- 문자열은 '(작은 따음표)'혹은\" (큰따음표)\" 사이에 문자를 넣어서 생성\n",
        "- 문자열 자체에 \",' 가 있는경우"
      ]
    },
    {
      "cell_type": "code",
      "metadata": {
        "colab": {
          "base_uri": "https://localhost:8080/"
        },
        "id": "uaI3rrc6ExNw",
        "outputId": "f2cf211c-e4ce-43d0-9a25-713e8ea140af"
      },
      "source": [
        "a = 'Hello world'\n",
        "b =  ' \"Hello\" world'\n",
        "print(a)\n",
        "print(b)"
      ],
      "execution_count": 2,
      "outputs": [
        {
          "output_type": "stream",
          "text": [
            "Hello world\n",
            " \"Hello\" world\n"
          ],
          "name": "stdout"
        }
      ]
    },
    {
      "cell_type": "markdown",
      "metadata": {
        "id": "BsYv1uLfFX7J"
      },
      "source": [
        "##**이스케이프(escape) 문자**\n",
        "- 문자열 내에서 문자의 의미를 달리하여 특정한 효과\n",
        "- Enter, tab\n",
        "\n",
        "- \\n: Enter, 새로운 줄(다음줄)\n",
        "- \\n: tap"
      ]
    },
    {
      "cell_type": "code",
      "metadata": {
        "colab": {
          "base_uri": "https://localhost:8080/"
        },
        "id": "3hE2DytPGU3J",
        "outputId": "fc8845fc-7de7-44c0-950d-74f5aedfed44"
      },
      "source": [
        "print('안녕하세요 \\n제 이름은 \\t 문어입니다. \\n 하는일은 \\t학생 입니다.')\n"
      ],
      "execution_count": 7,
      "outputs": [
        {
          "output_type": "stream",
          "text": [
            "안녕하세요 \n",
            "제 이름은 \t 문어입니다. \n",
            " 하는일은 \t학생 입니다.\n"
          ],
          "name": "stdout"
        }
      ]
    },
    {
      "cell_type": "markdown",
      "metadata": {
        "id": "2TelVEhDHTur"
      },
      "source": [
        "##**문자열의 인덱스 및 추출**\n",
        "- 문자열의 각 문자는 순서가 있음: '인덱스' \n",
        "- 인덱스 표현은 []\n",
        "- 첫번째 문자부터 마지막까지 차례대로 순서를 \n",
        "가짐\n",
        "- 시작은 0부터 "
      ]
    },
    {
      "cell_type": "code",
      "metadata": {
        "colab": {
          "base_uri": "https://localhost:8080/"
        },
        "id": "iJ9OVD8_HwwB",
        "outputId": "55b9829a-8f54-49f1-cf08-8c9c266e45e0"
      },
      "source": [
        "a = 'Hello Wolrd!' # 번호는 0번~11번까지 길이는 12\n",
        "print(a[0], a[4], a[5])\n"
      ],
      "execution_count": 20,
      "outputs": [
        {
          "output_type": "stream",
          "text": [
            "H o  \n"
          ],
          "name": "stdout"
        }
      ]
    },
    {
      "cell_type": "markdown",
      "metadata": {
        "id": "RnVEhPcJIT9q"
      },
      "source": [
        "##**-1 인덱스**\n",
        "- 다른언어와 달리 python은 음수의 인덱스를 지원\n",
        "- -1이 가장 마지막 인덱스, -2는 마지막에서 두번째 인덱스"
      ]
    },
    {
      "cell_type": "code",
      "metadata": {
        "colab": {
          "base_uri": "https://localhost:8080/"
        },
        "id": "a_cmhjOvIt7E",
        "outputId": "0c7613a4-3a02-4b03-8272-a187bfcbb879"
      },
      "source": [
        "#a = \"Hello world!\"\n",
        "print(a[-1], a[-3], a[-12])  #a[12]부터, ㅁ[-13]부터는 범위를 벗어나서 에러난다"
      ],
      "execution_count": 11,
      "outputs": [
        {
          "output_type": "stream",
          "text": [
            "! r H\n"
          ],
          "name": "stdout"
        }
      ]
    },
    {
      "cell_type": "markdown",
      "metadata": {
        "id": "HnvTjMjEJ-fq"
      },
      "source": [
        "##**문자열 슬라이싱(slicing)**\n",
        "- 인덱스로 추출할 때는 한글자만 추출한다면,\n",
        "슬라이싱은 부분 문자열을 한다ㅏㅏ\n",
        "- [시작:끝]과 같이 명시하여 해당 부분 문자를 추출\n",
        "- 시작이나 끝이 생략되어 있다면, 0부터 혹은 끝까지 간주해 추출\n",
        "\n"
      ]
    },
    {
      "cell_type": "code",
      "metadata": {
        "colab": {
          "base_uri": "https://localhost:8080/"
        },
        "id": "2PqUNnK3Kikq",
        "outputId": "bb3c5a0c-7d44-46e3-99e1-a4c6a2e6d7ff"
      },
      "source": [
        "#a = 'Hello world!'\n",
        "print(a[3:10])\n",
        "print(a[:10])\n",
        "print(a[3:])\n",
        "print(a[:])"
      ],
      "execution_count": 12,
      "outputs": [
        {
          "output_type": "stream",
          "text": [
            "lo wolr\n",
            "Hello wolr\n",
            "lo wolrd!\n",
            "Hello wolrd!\n"
          ],
          "name": "stdout"
        }
      ]
    },
    {
      "cell_type": "markdown",
      "metadata": {
        "id": "K1zGPpTMK7UL"
      },
      "source": [
        "## **문자열 내장 함수**\n",
        "- 문자열에 여러가지 기능을 제공\n"
      ]
    },
    {
      "cell_type": "code",
      "metadata": {
        "colab": {
          "base_uri": "https://localhost:8080/"
        },
        "id": "pwibbRReLFgp",
        "outputId": "4844b275-2167-4ef1-c589-811d95324e20"
      },
      "source": [
        "#a = 'Hello World!\n",
        "print(a.upper())\n",
        "print(a.lower())\n",
        "print(len(a))\n",
        "print(a.count ('l'))\n",
        "print(a.replace('H','J'))\n",
        "print(a.replace('ello', 'i'))\n",
        "print(a.count('l'))\n",
        "\n",
        "print(a.find('w'))\n",
        "print(a.index('W'))\n",
        "\n",
        "b= 'l'.join(a)\n",
        "print(b)"
      ],
      "execution_count": 22,
      "outputs": [
        {
          "output_type": "stream",
          "text": [
            "HELLO WOLRD!\n",
            "hello wolrd!\n",
            "12\n",
            "3\n",
            "Jello Wolrd!\n",
            "Hi Wolrd!\n",
            "3\n",
            "-1\n",
            "6\n",
            "Hlelllllol lWlolllrldl!\n"
          ],
          "name": "stdout"
        }
      ]
    },
    {
      "cell_type": "markdown",
      "metadata": {
        "id": "By3MqVi2P4Xl"
      },
      "source": [
        "# **format**\n",
        "- 문자열내의 특정한 값을 변수로부터\n",
        "초기화하여 동적으로 문자열을 생성"
      ]
    },
    {
      "cell_type": "code",
      "metadata": {
        "colab": {
          "base_uri": "https://localhost:8080/",
          "height": 54
        },
        "id": "VU3UhJ4wS6Ay",
        "outputId": "54815660-909f-417b-d8b5-500a7bb43294"
      },
      "source": [
        "temp = 27\n",
        "per = 80\n",
        "\n",
        "a='현재 기온은 {}도 이고. 비올 확률은 {}%입니다.'.format(temp,per)\n",
        "print(a)\n",
        "cla = 3\n",
        "#b=\n",
        "f'현재 프로그래밍 시간은 {cla}교시다.'\n"
      ],
      "execution_count": 50,
      "outputs": [
        {
          "output_type": "stream",
          "text": [
            "현재 기온은 27도 이고. 비올 확률은 80%입니다.\n"
          ],
          "name": "stdout"
        },
        {
          "output_type": "execute_result",
          "data": {
            "application/vnd.google.colaboratory.intrinsic+json": {
              "type": "string"
            },
            "text/plain": [
              "'현재 프로그래밍 시간은 3교시다.'"
            ]
          },
          "metadata": {},
          "execution_count": 50
        }
      ]
    },
    {
      "cell_type": "markdown",
      "metadata": {
        "id": "CR5LL2YHVOP-"
      },
      "source": [
        "### **split**\n",
        "- 문자열을 특정한 문자로 구분하여 치환"
      ]
    },
    {
      "cell_type": "code",
      "metadata": {
        "colab": {
          "base_uri": "https://localhost:8080/"
        },
        "id": "SGqndQaCVapc",
        "outputId": "d551a571-03bd-4a3e-e112-3b570ddffde6"
      },
      "source": [
        "a = 'what a wonderful day. nice weather !'\n",
        "a.split('w')"
      ],
      "execution_count": 44,
      "outputs": [
        {
          "output_type": "execute_result",
          "data": {
            "text/plain": [
              "['', 'hat a ', 'onderful day. nice ', 'eather !']"
            ]
          },
          "metadata": {},
          "execution_count": 44
        }
      ]
    }
  ]
}