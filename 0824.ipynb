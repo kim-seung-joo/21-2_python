{
  "nbformat": 4,
  "nbformat_minor": 0,
  "metadata": {
    "colab": {
      "name": "Untitled0.ipynb",
      "provenance": [],
      "collapsed_sections": [],
      "authorship_tag": "ABX9TyNmFxYaees7HHph6MOlWrED",
      "include_colab_link": true
    },
    "kernelspec": {
      "name": "python3",
      "display_name": "Python 3"
    },
    "language_info": {
      "name": "python"
    }
  },
  "cells": [
    {
      "cell_type": "markdown",
      "metadata": {
        "id": "view-in-github",
        "colab_type": "text"
      },
      "source": [
        "<a href=\"https://colab.research.google.com/github/kim-seung-joo/21-2_python/blob/main/0824.ipynb\" target=\"_parent\"><img src=\"https://colab.research.google.com/assets/colab-badge.svg\" alt=\"Open In Colab\"/></a>"
      ]
    },
    {
      "cell_type": "markdown",
      "metadata": {
        "id": "6sVxAIhZaYGg"
      },
      "source": [
        "# **학습 목표** \n",
        "1. *python 언어에서 변수의 의미를 이해하기*\n",
        "2. *기본 데이터 타입 선언하기*\n",
        " - *int, float , str , bool*\n",
        "\n",
        "\n",
        "\n"
      ]
    },
    {
      "cell_type": "markdown",
      "metadata": {
        "id": "4_QJuGHxb05B"
      },
      "source": [
        "## - 대입연산자\n",
        "- 오른쪽 수식이나 값을 계산한후 왼쪽에 명시된 변수에 해당 값을 대입\n",
        "- 변수는 해당 값을 가지게 된다."
      ]
    },
    {
      "cell_type": "code",
      "metadata": {
        "id": "phGIDX88aU-g"
      },
      "source": [
        "a = 10  #int\n",
        "b = 11  #float"
      ],
      "execution_count": 4,
      "outputs": []
    },
    {
      "cell_type": "markdown",
      "metadata": {
        "id": "w-fYQOupcrZR"
      },
      "source": [
        "# **주석** \n",
        "- 코드에서 #으로 시작하는 뒷부분\n",
        "- python에서는 소스코드를 실행할 때 #을 만나면 무시\n",
        "- 개발자(사람)이 보기 위한 용도로 사용한다."
      ]
    },
    {
      "cell_type": "code",
      "metadata": {
        "id": "ZJfQaGUJdF8w"
      },
      "source": [
        "# this line os very important                       (?)\n",
        "# so don't delete these line\n",
        "math = 76"
      ],
      "execution_count": 6,
      "outputs": []
    },
    {
      "cell_type": "markdown",
      "metadata": {
        "id": "-Wh2IWe2d5m6"
      },
      "source": [
        ""
      ]
    },
    {
      "cell_type": "markdown",
      "metadata": {
        "id": "yT4MuGR9d7OY"
      },
      "source": [
        " ## **변수 값 확인법**\n",
        "- print() 함수 사용\n",
        "- 코드에 마지막에 변수 값을 위치시킨후 실행"
      ]
    },
    {
      "cell_type": "code",
      "metadata": {
        "colab": {
          "base_uri": "https://localhost:8080/"
        },
        "id": "CgR-O-42ec7i",
        "outputId": "6b81fb10-dc64-424c-ae1b-b7723b59f6b8"
      },
      "source": [
        "a = 10\n",
        "b = 11.4\n",
        "a\n",
        "b"
      ],
      "execution_count": 7,
      "outputs": [
        {
          "output_type": "execute_result",
          "data": {
            "text/plain": [
              "11.4"
            ]
          },
          "metadata": {},
          "execution_count": 7
        }
      ]
    },
    {
      "cell_type": "code",
      "metadata": {
        "colab": {
          "base_uri": "https://localhost:8080/"
        },
        "id": "vxFODv3ueplS",
        "outputId": "b1d9e3c6-6b59-465d-9660-4955a09bcd17"
      },
      "source": [
        "a = 10\n",
        "b = 11.4\n",
        "a\n",
        "b\n",
        "print(a)\n",
        "print(a,b)\n",
        "b"
      ],
      "execution_count": 10,
      "outputs": [
        {
          "output_type": "stream",
          "text": [
            "10\n",
            "10 11.4\n"
          ],
          "name": "stdout"
        },
        {
          "output_type": "execute_result",
          "data": {
            "text/plain": [
              "11.4"
            ]
          },
          "metadata": {},
          "execution_count": 10
        }
      ]
    },
    {
      "cell_type": "markdown",
      "metadata": {
        "id": "yKl3k45cgPni"
      },
      "source": [
        "## **print 함수**\n",
        "- 함수란 특정 기능을 반복적으로 호출하며\n",
        "사용가능한 코드를 출력\n",
        "- ,로 여러 변수를 한줄에 출력\n",
        "- 기본적으로 한칸 띄어쓰기 후 출력"
      ]
    },
    {
      "cell_type": "code",
      "metadata": {
        "colab": {
          "base_uri": "https://localhost:8080/"
        },
        "id": "DT3Tvm9ZgsNT",
        "outputId": "15f08c89-904c-41fd-cbb8-e8f29f9cec20"
      },
      "source": [
        "print(a,b)\n",
        "print( a, 10, 200, b)\n",
        "print('집가고싶다')"
      ],
      "execution_count": 12,
      "outputs": [
        {
          "output_type": "stream",
          "text": [
            "10 11.4\n",
            "10 10 200 11.4\n",
            "집가고싶다\n"
          ],
          "name": "stdout"
        }
      ]
    },
    {
      "cell_type": "markdown",
      "metadata": {
        "id": "E4S49xa5hFZK"
      },
      "source": [
        "**print 함수 설정**\n",
        "- sep(구분자): 각 변수 사이에서 구분해주는 역할\n",
        "- end: 마지막에 출력할 문자열"
      ]
    },
    {
      "cell_type": "code",
      "metadata": {
        "colab": {
          "base_uri": "https://localhost:8080/"
        },
        "id": "yuhgofixhns0",
        "outputId": "b43654b6-51d1-4985-93e5-671f70f3a088"
      },
      "source": [
        "print (a,b, 200, '문어', sep ='#', end ='11' )"
      ],
      "execution_count": 16,
      "outputs": [
        {
          "output_type": "stream",
          "text": [
            "10#11.4#200#문어11"
          ],
          "name": "stdout"
        }
      ]
    }
  ]
}