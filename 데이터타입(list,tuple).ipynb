{
  "nbformat": 4,
  "nbformat_minor": 0,
  "metadata": {
    "colab": {
      "name": "데이터타입(list,tuple).ipynb",
      "provenance": [],
      "authorship_tag": "ABX9TyPNnOeN9AeBed4AdfHj1PoM",
      "include_colab_link": true
    },
    "kernelspec": {
      "name": "python3",
      "display_name": "Python 3"
    },
    "language_info": {
      "name": "python"
    }
  },
  "cells": [
    {
      "cell_type": "markdown",
      "metadata": {
        "id": "view-in-github",
        "colab_type": "text"
      },
      "source": [
        "<a href=\"https://colab.research.google.com/github/kim-seung-joo/21-2_python/blob/main/%EB%8D%B0%EC%9D%B4%ED%84%B0%ED%83%80%EC%9E%85(list%2Ctuple).ipynb\" target=\"_parent\"><img src=\"https://colab.research.google.com/assets/colab-badge.svg\" alt=\"Open In Colab\"/></a>"
      ]
    },
    {
      "cell_type": "markdown",
      "metadata": {
        "id": "X9pbZC-v8uIX"
      },
      "source": [
        "# **학습목표**\n",
        "- 리스트(list)와 튜플(tuple)에 대해 이해하기\n",
        "- 딕셔너리(dict)와 셋(set)에대해 이애하기"
      ]
    },
    {
      "cell_type": "markdown",
      "metadata": {
        "id": "07nFYqZH8_V3"
      },
      "source": [
        "## **list(리스트)와 tuple(튜플)**\n",
        "- 여러 개의 값을 담을 수 있는 데이터 구조\n",
        "- list : 생성한 후에 변경이 가능\n",
        "- tuple: 생성한 후 변경 불가능\n",
        "\n"
      ]
    },
    {
      "cell_type": "code",
      "metadata": {
        "colab": {
          "base_uri": "https://localhost:8080/"
        },
        "id": "V0FvA0AG9fS0",
        "outputId": "7d7e7644-51ef-444f-d679-63eaeebec18c"
      },
      "source": [
        "#{}안에 값을 담아서 생성\n",
        "a = {'문어'}\n",
        "print(a)"
      ],
      "execution_count": null,
      "outputs": [
        {
          "output_type": "stream",
          "name": "stdout",
          "text": [
            "{'문어'}\n"
          ]
        }
      ]
    },
    {
      "cell_type": "code",
      "metadata": {
        "colab": {
          "base_uri": "https://localhost:8080/"
        },
        "id": "nMP9QNAF91n_",
        "outputId": "eb8072e4-7f44-45b2-9847-b19302bbfcd1"
      },
      "source": [
        "a = ['나는' , '문어', '꿈을꾸는', '문어']\n",
        "print(a)"
      ],
      "execution_count": null,
      "outputs": [
        {
          "output_type": "stream",
          "name": "stdout",
          "text": [
            "['나는', '문어', '꿈을꾸는', '문어']\n"
          ]
        }
      ]
    },
    {
      "cell_type": "code",
      "metadata": {
        "colab": {
          "base_uri": "https://localhost:8080/"
        },
        "id": "VPfX5RZC-CD-",
        "outputId": "bcd2dcd1-dd2f-4411-bfba-4203fe1625d2"
      },
      "source": [
        "a = '잠을 자는 문어!'\n",
        "b = list(a) #list()함수로 리스트 생성!\n",
        "# 다른 타입(문자열)을 리스트로 변환할때 사용 가능\n",
        "\n",
        "c = a.split()#문자열의 공백 기준으로 리스트를 생성\n",
        "d = a.split('는')  #구분자(매게변수) 기준\n",
        "\n",
        "print(b)\n",
        "print(c)\n",
        "print(d)\n"
      ],
      "execution_count": null,
      "outputs": [
        {
          "output_type": "stream",
          "name": "stdout",
          "text": [
            "['잠', '을', ' ', '자', '는', ' ', '문', '어', '!']\n",
            "['잠을', '자는', '문어!']\n",
            "['잠을 자', ' 문어!']\n"
          ]
        }
      ]
    },
    {
      "cell_type": "markdown",
      "metadata": {
        "id": "6rPXWrC2_7ns"
      },
      "source": [
        "## **리스트 indexting**\n",
        "- [] 연산자를 이용햐 항목을 가져온다.\n",
        "- [ i ] : i번쨰 원소를 반환한다.\n",
        "- i가 음수면, 마지막 원소에서 -1로 하여 가져온다.\n"
      ]
    },
    {
      "cell_type": "code",
      "metadata": {
        "colab": {
          "base_uri": "https://localhost:8080/"
        },
        "id": "6MKi3iufAunT",
        "outputId": "cca8bafd-c0d0-4ad6-fa01-d1a749fb5b51"
      },
      "source": [
        "a = [1,2,3,4,5,6,7,8,9,10]\n",
        "print(a[0], a[2])\n",
        "print(a[-1],a[-3],a[-10])\n",
        "print(a[9]) #파이썬은 0부터 숫자를 센다 1, 2, 3, 4를 0번, 1번, 2번, 3번 이런식으로"
      ],
      "execution_count": null,
      "outputs": [
        {
          "output_type": "stream",
          "name": "stdout",
          "text": [
            "1 3\n",
            "10 8 1\n",
            "10\n"
          ]
        }
      ]
    },
    {
      "cell_type": "code",
      "metadata": {
        "colab": {
          "base_uri": "https://localhost:8080/"
        },
        "id": "xtwh-zdEBZIp",
        "outputId": "d1611873-f25f-4ff3-be47-6e7cf8ab7b42"
      },
      "source": [
        "#인덱스 접근 후 업데이트\n",
        "a = 'hello comnetA!'\n",
        "b = a.replace('l' , 'w')\n",
        "c = 'j' +a[1:]\n",
        "print(b)\n",
        "print(c)\n",
        "\n",
        "a = [1,2,3,4,5,6,7,8,9,10]\n",
        "\n",
        "a[0] = 100\n",
        "a[-1] = 90\n",
        "print(a)"
      ],
      "execution_count": null,
      "outputs": [
        {
          "output_type": "stream",
          "name": "stdout",
          "text": [
            "hewwo comnetA!\n",
            "jello comnetA!\n",
            "[100, 2, 3, 4, 5, 6, 7, 8, 9, 90]\n"
          ]
        }
      ]
    },
    {
      "cell_type": "markdown",
      "metadata": {
        "id": "Naiu9aGRN8yF"
      },
      "source": [
        "# **리스트 slicing(슬라이싱)**\n",
        "- 슬라이싱 결과 역시 리스트\n",
        "- 문자열과 동일하게 동작"
      ]
    },
    {
      "cell_type": "code",
      "metadata": {
        "colab": {
          "base_uri": "https://localhost:8080/"
        },
        "id": "yBDXP7WlOM5K",
        "outputId": "a75b21bb-27cf-4dbb-c7d2-2bf026a8e50e"
      },
      "source": [
        "a =[1,2,3,4,5,6,7,8,9,10]\n",
        "#슬라이싱[시작:끝:증가]\n",
        "\n",
        "print(a[3:7])\n",
        "print(a[:7])\n",
        "print(a[3:])\n",
        "print(a[:])\n",
        "print(a[1:7:2])"
      ],
      "execution_count": null,
      "outputs": [
        {
          "output_type": "stream",
          "name": "stdout",
          "text": [
            "[4, 5, 6, 7]\n",
            "[1, 2, 3, 4, 5, 6, 7]\n",
            "[4, 5, 6, 7, 8, 9, 10]\n",
            "[1, 2, 3, 4, 5, 6, 7, 8, 9, 10]\n",
            "[2, 4, 6]\n"
          ]
        }
      ]
    },
    {
      "cell_type": "markdown",
      "metadata": {
        "id": "RmX0JQhBPCOz"
      },
      "source": [
        "### **리스트 맴버 함수**\n",
        "- 생성된 리스트에 동작하는 함수\n",
        "- append() : 리스트 끝에다가 항목을 추가한다 \n",
        "\n",
        "- extend() : 리스트를 연장(+=)\n",
        "\n",
        "- insert() : 원하는 위치에 추가 가능\n",
        "\n",
        "- remove() : 값으로 항목을 삭제\n",
        "\n",
        "- pop() : 지우고자 하는 인덱스의 아이템을 반환후 삭제\n",
        "\n",
        "- index() : 잦고자하는 값의 인덱스를 반환\n"
      ]
    },
    {
      "cell_type": "code",
      "metadata": {
        "colab": {
          "base_uri": "https://localhost:8080/"
        },
        "id": "wpNd1Z3fPUGH",
        "outputId": "2b9c446c-5dda-44fa-a870-d2fbd5a7a2f7"
      },
      "source": [
        "a = [1,2,3,4,5]\n",
        "a.append(10)\n",
        "print(a)\n",
        "\n",
        "b = [11,12,13,14,15]\n",
        "#a.extend(b)\n",
        "a += b \n",
        "print(a) \n"
      ],
      "execution_count": null,
      "outputs": [
        {
          "output_type": "stream",
          "name": "stdout",
          "text": [
            "[1, 2, 3, 4, 5, 10]\n",
            "[1, 2, 3, 4, 5, 10, 11, 12, 13, 14, 15]\n"
          ]
        }
      ]
    },
    {
      "cell_type": "code",
      "metadata": {
        "colab": {
          "base_uri": "https://localhost:8080/"
        },
        "id": "e7AtKxtCQa85",
        "outputId": "62969d8a-2db6-442e-a4f1-0b1655b61849"
      },
      "source": [
        "a = [1,2,3,4,5,6,7,8,9,10]\n",
        "a.insert(5, 20)\n",
        "print(a)\n"
      ],
      "execution_count": null,
      "outputs": [
        {
          "output_type": "stream",
          "name": "stdout",
          "text": [
            "[1, 2, 3, 4, 5, 20, 6, 7, 8, 9, 10]\n"
          ]
        }
      ]
    },
    {
      "cell_type": "code",
      "metadata": {
        "colab": {
          "base_uri": "https://localhost:8080/"
        },
        "id": "yz4Ajsp4RLmW",
        "outputId": "c082d33c-57cf-459f-e17e-abb260c14f3e"
      },
      "source": [
        "a.remove(10)\n",
        "print(a)\n"
      ],
      "execution_count": null,
      "outputs": [
        {
          "output_type": "stream",
          "name": "stdout",
          "text": [
            "[2, 3, 4, 11, 12, 13, 14, 15]\n"
          ]
        }
      ]
    },
    {
      "cell_type": "code",
      "metadata": {
        "colab": {
          "base_uri": "https://localhost:8080/"
        },
        "id": "ajxwgoTeRnsR",
        "outputId": "aef266a0-88bd-470a-b520-3d2016599eaf"
      },
      "source": [
        "a = [1,2,3,4,10,11,12,13,14,15]\n",
        "c = a.pop(0)\n",
        "\n",
        "print(a)\n",
        "print(c) \n"
      ],
      "execution_count": null,
      "outputs": [
        {
          "output_type": "stream",
          "name": "stdout",
          "text": [
            "[2, 3, 4, 10, 11, 12, 13, 14, 15]\n",
            "1\n"
          ]
        }
      ]
    },
    {
      "cell_type": "code",
      "metadata": {
        "colab": {
          "base_uri": "https://localhost:8080/"
        },
        "id": "rSU0THLeXD_5",
        "outputId": "5a7533b5-b346-4592-bdb2-b6ce374ff3de"
      },
      "source": [
        "a = [2, 6, 7, 9, 10]\n",
        "a.index(2)\n",
        "a.index(6) #몇번째 있는지 사용(파이썬은 0번부터(잊지마라ㅡㅡ))"
      ],
      "execution_count": null,
      "outputs": [
        {
          "output_type": "execute_result",
          "data": {
            "text/plain": [
              "1"
            ]
          },
          "metadata": {},
          "execution_count": 56
        }
      ]
    },
    {
      "cell_type": "markdown",
      "metadata": {
        "id": "DoTnZPKiXgXi"
      },
      "source": [
        "# **in 키워드**\n",
        "- 리스트내에 해당 값이 존재하는지\n",
        "- True,False 중 한가지로 반환\n",
        "- 값 in [list]"
      ]
    },
    {
      "cell_type": "code",
      "metadata": {
        "colab": {
          "base_uri": "https://localhost:8080/"
        },
        "id": "L2M8TmdbXwNe",
        "outputId": "be5879f4-0031-4ed9-dc80-e252807ab323"
      },
      "source": [
        "a = [1,2,3,4,5,6,7]\n",
        "b = 5\n",
        "c = 10\n",
        "d = b in a\n",
        "\n",
        "print(b in a)\n",
        "print(c in a)\n",
        "print(d)\n"
      ],
      "execution_count": null,
      "outputs": [
        {
          "output_type": "stream",
          "name": "stdout",
          "text": [
            "True\n",
            "False\n",
            "True\n"
          ]
        }
      ]
    },
    {
      "cell_type": "markdown",
      "metadata": {
        "id": "kyXdn5vFZHco"
      },
      "source": [
        "## **list 정렬**\n",
        "- sort() : 리스트자체를 내부적으로 정렬\n",
        "- sorted() : 정렬된 리스트의 복사본을 반환\n",
        "\n"
      ]
    },
    {
      "cell_type": "code",
      "metadata": {
        "colab": {
          "base_uri": "https://localhost:8080/"
        },
        "id": "rpRPHI54ZeYj",
        "outputId": "b103d263-1ffe-4bee-8aaf-61baefc78ce5"
      },
      "source": [
        "a = [9,10,23,1,11,111,2,3,4,600,53525,45,67,88,21,10000000,12005,493000]\n",
        "b = sorted(a)\n",
        "print(a)\n",
        "print(b)\n",
        "\n",
        "a.sort(reverse =True)\n",
        "print(a)\n",
        "print(b)"
      ],
      "execution_count": null,
      "outputs": [
        {
          "output_type": "stream",
          "name": "stdout",
          "text": [
            "[9, 10, 23, 1, 11, 111, 2, 3, 4, 600, 53525, 45, 67, 88, 21, 10000000, 12005, 493000]\n",
            "[1, 2, 3, 4, 9, 10, 11, 21, 23, 45, 67, 88, 111, 600, 12005, 53525, 493000, 10000000]\n",
            "[10000000, 493000, 53525, 12005, 600, 111, 88, 67, 45, 23, 21, 11, 10, 9, 4, 3, 2, 1]\n",
            "[1, 2, 3, 4, 9, 10, 11, 21, 23, 45, 67, 88, 111, 600, 12005, 53525, 493000, 10000000]\n"
          ]
        }
      ]
    },
    {
      "cell_type": "markdown",
      "metadata": {
        "id": "fQE-VmGIaqAX"
      },
      "source": [
        "# **튜플(tuple)**\n",
        "- 리스트와 같이 여러개의 값을 갖는 데이터 컬렉션 타입\n",
        "- 생성된후 변겅이 불가능 "
      ]
    },
    {
      "cell_type": "code",
      "metadata": {
        "colab": {
          "base_uri": "https://localhost:8080/"
        },
        "id": "pk7FJcPJa-M9",
        "outputId": "f679c713-369d-4376-dc8b-622c1053af53"
      },
      "source": [
        "a = [1,2,3]\n",
        "b = (1,2,3)\n",
        "print(type(a))\n",
        "print(type(b))\n",
        "\n",
        "a[0]= 100\n",
        "print(a)\n",
        "#b[0]=100 튜플은 변경이 안된다 (파이썬 나빠)\n",
        "#print(0)"
      ],
      "execution_count": null,
      "outputs": [
        {
          "output_type": "stream",
          "name": "stdout",
          "text": [
            "<class 'list'>\n",
            "<class 'tuple'>\n",
            "[100, 2, 3]\n"
          ]
        }
      ]
    },
    {
      "cell_type": "code",
      "metadata": {
        "colab": {
          "base_uri": "https://localhost:8080/"
        },
        "id": "goFo3eAgbh8b",
        "outputId": "9d072404-9f64-4d88-a61f-a62efd2acf6c"
      },
      "source": [
        "a,b,c,d = 10,20,30,40\n",
        "print(a,b,c,d) #차레대로 값이 들어감.\n"
      ],
      "execution_count": null,
      "outputs": [
        {
          "output_type": "stream",
          "name": "stdout",
          "text": [
            "10 20 30 40\n"
          ]
        }
      ]
    },
    {
      "cell_type": "code",
      "metadata": {
        "colab": {
          "base_uri": "https://localhost:8080/"
        },
        "id": "nO9yFLnFb6tD",
        "outputId": "e88bad31-8fdc-4bb3-fec7-02bb9ddb57a0"
      },
      "source": [
        "a = 5\n",
        "b = 4\n",
        "\n",
        "#문제: a,b의 값을 교환해시오.\n",
        "temp = a\n",
        "#a = b\n",
        "#b = temp #값을 교환하려면 temp를 써라(?)\n",
        "\n",
        "print(a,b)\n",
        "a,b = b,a\n",
        "print(a,b)"
      ],
      "execution_count": null,
      "outputs": [
        {
          "output_type": "stream",
          "name": "stdout",
          "text": [
            "5 4\n",
            "4 5\n"
          ]
        }
      ]
    },
    {
      "cell_type": "code",
      "metadata": {
        "id": "F3RMeRtrdHir"
      },
      "source": [
        ""
      ],
      "execution_count": null,
      "outputs": []
    },
    {
      "cell_type": "code",
      "metadata": {
        "id": "tAQ1GbN8dM_6"
      },
      "source": [
        ""
      ],
      "execution_count": null,
      "outputs": []
    }
  ]
}