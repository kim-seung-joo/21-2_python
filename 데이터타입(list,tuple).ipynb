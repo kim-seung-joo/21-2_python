{
  "nbformat": 4,
  "nbformat_minor": 0,
  "metadata": {
    "colab": {
      "name": "데이터타입(list,tuple).ipynb",
      "provenance": [],
      "authorship_tag": "ABX9TyP9yxtT6Qda+bLxFHLrqLcA",
      "include_colab_link": true
    },
    "kernelspec": {
      "name": "python3",
      "display_name": "Python 3"
    },
    "language_info": {
      "name": "python"
    }
  },
  "cells": [
    {
      "cell_type": "markdown",
      "metadata": {
        "id": "view-in-github",
        "colab_type": "text"
      },
      "source": [
        "<a href=\"https://colab.research.google.com/github/kim-seung-joo/21-2_python/blob/main/%EB%8D%B0%EC%9D%B4%ED%84%B0%ED%83%80%EC%9E%85(list%2Ctuple).ipynb\" target=\"_parent\"><img src=\"https://colab.research.google.com/assets/colab-badge.svg\" alt=\"Open In Colab\"/></a>"
      ]
    },
    {
      "cell_type": "markdown",
      "metadata": {
        "id": "gmfgUK3faE3P"
      },
      "source": [
        "## **학습목표**\n",
        "\n",
        "- 리스트(list)에 대해 이애하기\n",
        "- 튜플(tuple)에 대해 이해하기"
      ]
    },
    {
      "cell_type": "markdown",
      "metadata": {
        "id": "kQZW6vWgbKSF"
      },
      "source": [
        "## **리스트(list)와 튜플**\n",
        "- 여러 개의 값을 담을 수 있는 데이터 구조\n",
        "- list: 생성된 후에 변경이 가능\n",
        "- tuple: 생성된 후에 변경이 불가능\n"
      ]
    },
    {
      "cell_type": "code",
      "metadata": {
        "colab": {
          "base_uri": "https://localhost:8080/"
        },
        "id": "90JsC_qdbiVr",
        "outputId": "6e093da4-80cc-4ef4-b09d-649355e35d2c"
      },
      "source": [
        "# []:리스트, (): 튜플, {}:딕셔너리\n",
        "a = [1,2,3,4,5]\n",
        "print(a)"
      ],
      "execution_count": null,
      "outputs": [
        {
          "output_type": "stream",
          "name": "stdout",
          "text": [
            "[1, 2, 3, 4, 5]\n"
          ]
        }
      ]
    },
    {
      "cell_type": "code",
      "metadata": {
        "colab": {
          "base_uri": "https://localhost:8080/"
        },
        "id": "d1wjDcKAcbSL",
        "outputId": "d8c13de3-afbf-4e9a-c07a-4d097dcf300d"
      },
      "source": [
        "a = ['컴넷', 'B', 1, '학년',[10,20]]\n",
        "print(a)"
      ],
      "execution_count": null,
      "outputs": [
        {
          "output_type": "stream",
          "name": "stdout",
          "text": [
            "['컴넷', 'B', 1, '학년', [10, 20]]\n"
          ]
        }
      ]
    },
    {
      "cell_type": "code",
      "metadata": {
        "colab": {
          "base_uri": "https://localhost:8080/"
        },
        "id": "QkmZ8qn4dI6C",
        "outputId": "1d267587-5c38-4d20-800a-8508d2cfef2f"
      },
      "source": [
        "a = \"Hello comnet B!\"\n",
        "b = list(a)  #list()함수로 리스트를 생성\n",
        "#리스트 함수는 다른타입(문자열 등)을 리스트로 변환할 떄 사용\n",
        "\n",
        "print(b)\n",
        "print(len(b))\n",
        "\n",
        "c = a.split()#공백을 기준으로 리스트를 생성\n",
        "d = a.split('l')# ()안의 구분자를 기준으로 리스트를 생성\n",
        "print(c)\n",
        "print(d)"
      ],
      "execution_count": null,
      "outputs": [
        {
          "output_type": "stream",
          "name": "stdout",
          "text": [
            "['H', 'e', 'l', 'l', 'o', ' ', 'c', 'o', 'm', 'n', 'e', 't', ' ', 'B', '!']\n",
            "15\n",
            "['Hello', 'comnet', 'B!']\n",
            "['He', '', 'o comnet B!']\n"
          ]
        }
      ]
    },
    {
      "cell_type": "markdown",
      "metadata": {
        "id": "Mk1iKWnnk7yb"
      },
      "source": [
        "## **리스트 인덱싱(indexing)**\n",
        "\n",
        "- [] 연산자를 이용해서 항목을 가져온다.\n",
        "- [ i ]: i번쨰 원소를 반환한다\n",
        "- 만약, i가 음수면 아지막 원소에서-1로 하여 가져온다."
      ]
    },
    {
      "cell_type": "code",
      "metadata": {
        "colab": {
          "base_uri": "https://localhost:8080/"
        },
        "id": "21lP6wQLlUJB",
        "outputId": "760e8a59-544e-4608-aa6d-a43d7038f0c0"
      },
      "source": [
        "a = [1,2,3,4,5,6,7,8,9,10]\n",
        "print(a[0], a[3], a[7], a[9])\n",
        "print(a[-1], a[-3], a[-10])\n",
        "#print(a[10]), a[-11]) "
      ],
      "execution_count": 20,
      "outputs": [
        {
          "output_type": "stream",
          "name": "stdout",
          "text": [
            "1 4 8 10\n",
            "10 8 1\n"
          ]
        }
      ]
    },
    {
      "cell_type": "code",
      "metadata": {
        "colab": {
          "base_uri": "https://localhost:8080/"
        },
        "id": "291fOfxWlcjh",
        "outputId": "e6654d65-8467-418e-fe9d-cd797460d425"
      },
      "source": [
        "#리스트의 인덱스를 이용해 업데이트\n",
        "a = [1,2,3,4,5,6,7,8,9,10]\n",
        "a[0] = 100\n",
        "a[-1] = 0\n",
        "print(a)\n",
        "\n",
        "#문자역을 인덱스를 사용해 없데이트\n",
        "a = \"Hello comnet B!\"\n",
        "b = a.replace('l','w')\n",
        "print(b)\n",
        "c = 'j'+a[1:]\n",
        "print(c)"
      ],
      "execution_count": 27,
      "outputs": [
        {
          "output_type": "stream",
          "name": "stdout",
          "text": [
            "[100, 2, 3, 4, 5, 6, 7, 8, 9, 0]\n",
            "Hewwo comnet B!\n",
            "jello comnet B!\n"
          ]
        }
      ]
    },
    {
      "cell_type": "markdown",
      "metadata": {
        "id": "KrXLsnAmoKTP"
      },
      "source": [
        "### **리스트 slicing**\n",
        "- 리스트를 슬라이싱한 결과도 역시 리스트\n",
        "- 슬라이싱[시작:끝:승가값]"
      ]
    },
    {
      "cell_type": "code",
      "metadata": {
        "colab": {
          "base_uri": "https://localhost:8080/"
        },
        "id": "6AzgF-gOon2s",
        "outputId": "8f869ec7-348e-412a-f417-1bd03677ea56"
      },
      "source": [
        "a = [1,2,3,4,5,6,7,8,9,10]\n",
        "print(a[3:7])\n",
        "print(a[:7])\n",
        "print(a[3:])\n",
        "print(a[:])\n",
        "print(a[::2])\n",
        "print(a[1:9:2])"
      ],
      "execution_count": 33,
      "outputs": [
        {
          "output_type": "stream",
          "name": "stdout",
          "text": [
            "[4, 5, 6, 7]\n",
            "[1, 2, 3, 4, 5, 6, 7]\n",
            "[4, 5, 6, 7, 8, 9, 10]\n",
            "[1, 2, 3, 4, 5, 6, 7, 8, 9, 10]\n",
            "[1, 3, 5, 7, 9]\n",
            "[2, 4, 6, 8]\n"
          ]
        }
      ]
    },
    {
      "cell_type": "markdown",
      "metadata": {
        "id": "o8p83SPzq5OV"
      },
      "source": [
        "### **리스트 멤버 함수**\n",
        "- 생성된 리스트에 동작하는 함수\n",
        "- append() : 리스트 끝에다가 항목을 추가\n",
        "- extend() : 리스트를 연장 (+=)\n",
        "- insert() : 원하는 위치에 추가 가능(위치,아이템)\n"
      ]
    },
    {
      "cell_type": "code",
      "metadata": {
        "colab": {
          "base_uri": "https://localhost:8080/"
        },
        "id": "rDTNo8DtrNjx",
        "outputId": "dd453b87-4d6d-4052-f04e-3cd8fa98e368"
      },
      "source": [
        "a = [1,2,3,4,5]\n",
        "a.append(10)\n",
        "print(a)"
      ],
      "execution_count": 34,
      "outputs": [
        {
          "output_type": "stream",
          "name": "stdout",
          "text": [
            "[1, 2, 3, 4, 5, 10]\n"
          ]
        }
      ]
    },
    {
      "cell_type": "code",
      "metadata": {
        "colab": {
          "base_uri": "https://localhost:8080/"
        },
        "id": "cQwtjGjKrddI",
        "outputId": "a974bb0e-a3f8-4f02-e7a4-b9ff3b6b0790"
      },
      "source": [
        "b = [11,12,13]\n",
        "#a.extend(b)\n",
        "a += b #extend 동장\n",
        "print(a)"
      ],
      "execution_count": 37,
      "outputs": [
        {
          "output_type": "stream",
          "name": "stdout",
          "text": [
            "[1, 2, 3, 4, 5, 10, 11, 12, 13, 11, 12, 13, 11, 12, 13]\n"
          ]
        }
      ]
    },
    {
      "cell_type": "code",
      "metadata": {
        "colab": {
          "base_uri": "https://localhost:8080/"
        },
        "id": "uFrXMGKDr0AY",
        "outputId": "bb0bd057-5638-4d86-8c93-a7a9463f521b"
      },
      "source": [
        "a = [1,2,3,4,5]\n",
        "\n",
        "a.insert(0,7)\n",
        "a.insert(1,6)\n",
        "print(a)"
      ],
      "execution_count": 39,
      "outputs": [
        {
          "output_type": "stream",
          "name": "stdout",
          "text": [
            "[7, 6, 1, 2, 3, 4, 5]\n"
          ]
        }
      ]
    },
    {
      "cell_type": "markdown",
      "metadata": {
        "id": "3l-wPk5byqfj"
      },
      "source": [
        "- remove(): 값으로 항목을 삭제\n",
        "- pop() : 지우고자 하는 인덱스의 아이템을 반환후 삭제\n",
        "- index() : 찾고자 하는 값의 인덱스 값을 반환"
      ]
    },
    {
      "cell_type": "code",
      "metadata": {
        "colab": {
          "base_uri": "https://localhost:8080/"
        },
        "id": "4g5vfiKjywYw",
        "outputId": "0dda1600-b820-416c-d72b-a0f450a41fad"
      },
      "source": [
        "a = [10,20,30,40,50]\n",
        "a.remove(10)\n",
        "print(a)"
      ],
      "execution_count": 40,
      "outputs": [
        {
          "output_type": "stream",
          "name": "stdout",
          "text": [
            "[20, 30, 40, 50]\n"
          ]
        }
      ]
    },
    {
      "cell_type": "code",
      "metadata": {
        "colab": {
          "base_uri": "https://localhost:8080/"
        },
        "id": "p_CdK7Mqy_a3",
        "outputId": "664b2292-7839-4fd7-a2c9-3cb11e8b5b46"
      },
      "source": [
        "a = [10,20,30,40,50]\n",
        "\n",
        "b = a.pop(0)\n",
        "print(b)\n",
        "print(a)"
      ],
      "execution_count": 44,
      "outputs": [
        {
          "output_type": "stream",
          "name": "stdout",
          "text": [
            "10\n",
            "[20, 30, 40, 50]\n"
          ]
        }
      ]
    },
    {
      "cell_type": "code",
      "metadata": {
        "colab": {
          "base_uri": "https://localhost:8080/"
        },
        "id": "XDlSl5KSzP95",
        "outputId": "9fe9b640-a87a-447b-d504-41b5df12f02c"
      },
      "source": [
        "a = [10,20,30,40,50]\n",
        "print(a.index(40))\n",
        "\n",
        "b = \"Hello!\"\n",
        "print(b.index('l'))"
      ],
      "execution_count": 49,
      "outputs": [
        {
          "output_type": "stream",
          "name": "stdout",
          "text": [
            "3\n",
            "2\n"
          ]
        }
      ]
    },
    {
      "cell_type": "markdown",
      "metadata": {
        "id": "MWYUurAF0Rag"
      },
      "source": [
        "### **in 키워드**\n",
        "- 리스트에 해당 밧이 존재 하는지\n",
        "- True, False 중 한가지로 반환\n",
        "- 값 in [list]"
      ]
    },
    {
      "cell_type": "code",
      "metadata": {
        "colab": {
          "base_uri": "https://localhost:8080/"
        },
        "id": "vowqpCTP0qDu",
        "outputId": "666bf094-bd93-4fbf-bab9-274be4c83c5c"
      },
      "source": [
        "a = [1,2,3,4,5,6,7,8]\n",
        "b = 5 \n",
        "c = 10\n",
        "print(b in a)\n",
        "print(c in a)"
      ],
      "execution_count": 52,
      "outputs": [
        {
          "output_type": "stream",
          "name": "stdout",
          "text": [
            "True\n",
            "False\n"
          ]
        }
      ]
    },
    {
      "cell_type": "markdown",
      "metadata": {
        "id": "AIBaay3q1vu_"
      },
      "source": [
        "### **sort 정렬**\n",
        "- sort() : 리스트 자체를 내부적으로 정렬\n",
        "- sorted() : 정렬왼 리스트의 복사본 저장"
      ]
    },
    {
      "cell_type": "code",
      "metadata": {
        "colab": {
          "base_uri": "https://localhost:8080/"
        },
        "id": "pK8pgFf717zE",
        "outputId": "8ebcd2cd-7236-4c24-c30c-ab4ccfbd505a"
      },
      "source": [
        "a = [2,5,6,8,9,9,5,3,3,5,7,9,90,]\n",
        "b = sorted(a)\n",
        "print(b)\n",
        "print(a)\n",
        "\n",
        "\n",
        "#a.sort()\n",
        "#print(a)\n",
        "#a.sort(reverse= True)\n",
        "#print(a)"
      ],
      "execution_count": 58,
      "outputs": [
        {
          "output_type": "stream",
          "name": "stdout",
          "text": [
            "[2, 3, 3, 5, 5, 5, 6, 7, 8, 9, 9, 9, 90]\n",
            "[2, 5, 6, 8, 9, 9, 5, 3, 3, 5, 7, 9, 90]\n"
          ]
        }
      ]
    },
    {
      "cell_type": "markdown",
      "metadata": {
        "id": "0uKoGYMz3G_V"
      },
      "source": [
        "### **튜플(Tuple)**\n",
        "- 리스트와 같이 어려개의 값을 갖는 데이터 컬렉션 타입\n",
        "- 생성된 우레 변경이 불가능"
      ]
    },
    {
      "cell_type": "code",
      "metadata": {
        "colab": {
          "base_uri": "https://localhost:8080/"
        },
        "id": "GIj639ok3ULq",
        "outputId": "241b59d2-17f9-4397-d1a8-aac6110a33e8"
      },
      "source": [
        "a = [1,2,3]\n",
        "b = (1,2,3)\n",
        "\n",
        "print(type(a))\n",
        "print(type(b))\n",
        "\n",
        "a[0] = 100\n",
        "print(a)\n",
        "#b[0] = 100"
      ],
      "execution_count": 61,
      "outputs": [
        {
          "output_type": "stream",
          "name": "stdout",
          "text": [
            "<class 'list'>\n",
            "<class 'tuple'>\n",
            "[100, 2, 3]\n"
          ]
        }
      ]
    },
    {
      "cell_type": "code",
      "metadata": {
        "colab": {
          "base_uri": "https://localhost:8080/"
        },
        "id": "RCFFMDBG3gEz",
        "outputId": "9163f8f0-3461-4970-b814-f0188f7d1732"
      },
      "source": [
        "a,b,c,d = 10,20,30,40\n",
        "\n",
        "print(a,b,c,d)"
      ],
      "execution_count": 65,
      "outputs": [
        {
          "output_type": "stream",
          "name": "stdout",
          "text": [
            "10 20 30 40\n"
          ]
        }
      ]
    },
    {
      "cell_type": "code",
      "metadata": {
        "colab": {
          "base_uri": "https://localhost:8080/"
        },
        "id": "aevABi4M34z6",
        "outputId": "a4269cb2-7c39-40ab-8d12-f8c0cb3f7dac"
      },
      "source": [
        "a = 5 \n",
        "b = 4\n",
        "\n",
        "#문제! a,b값을 교환하시오!\n",
        "\n",
        "#temp = a\n",
        "#a = b\n",
        "#b = temp\n",
        "a,b = b,a\n",
        "\n",
        "print(a,b)"
      ],
      "execution_count": 69,
      "outputs": [
        {
          "output_type": "stream",
          "name": "stdout",
          "text": [
            "4 5\n"
          ]
        }
      ]
    },
    {
      "cell_type": "code",
      "metadata": {
        "id": "TP_usfq_4ouf"
      },
      "source": [
        ""
      ],
      "execution_count": 69,
      "outputs": []
    }
  ]
}