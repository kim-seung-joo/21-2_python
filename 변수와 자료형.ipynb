{
  "nbformat": 4,
  "nbformat_minor": 0,
  "metadata": {
    "colab": {
      "name": "Untitled0.ipynb",
      "provenance": [],
      "collapsed_sections": [],
      "authorship_tag": "ABX9TyOJMrlcgM7iJFDUdxBb4tUP",
      "include_colab_link": true
    },
    "kernelspec": {
      "name": "python3",
      "display_name": "Python 3"
    },
    "language_info": {
      "name": "python"
    }
  },
  "cells": [
    {
      "cell_type": "markdown",
      "metadata": {
        "id": "view-in-github",
        "colab_type": "text"
      },
      "source": [
        "<a href=\"https://colab.research.google.com/github/kim-seung-joo/21-2_python/blob/main/%EB%B3%80%EC%88%98%EC%99%80%20%EC%9E%90%EB%A3%8C%ED%98%95.ipynb\" target=\"_parent\"><img src=\"https://colab.research.google.com/assets/colab-badge.svg\" alt=\"Open In Colab\"/></a>"
      ]
    },
    {
      "cell_type": "markdown",
      "metadata": {
        "id": "6sVxAIhZaYGg"
      },
      "source": [
        "# **학습 목표** \n",
        "1. *python 언어에서 변수의 의미를 이해하기*\n",
        "2. *기본 데이터 타입 선언하기*\n",
        " - *int, float , str , bool*\n",
        "\n",
        "\n",
        "\n"
      ]
    },
    {
      "cell_type": "markdown",
      "metadata": {
        "id": "4_QJuGHxb05B"
      },
      "source": [
        "## - 대입연산자\n",
        "- 오른쪽 수식이나 값을 계산한후 왼쪽에 명시된 변수에 해당 값을 대입\n",
        "- 변수는 해당 값을 가지게 된다."
      ]
    },
    {
      "cell_type": "code",
      "metadata": {
        "id": "phGIDX88aU-g"
      },
      "source": [
        "a = 10  #int\n",
        "b = 11  #float"
      ],
      "execution_count": null,
      "outputs": []
    },
    {
      "cell_type": "markdown",
      "metadata": {
        "id": "w-fYQOupcrZR"
      },
      "source": [
        "# **주석** \n",
        "- 코드에서 #으로 시작하는 뒷부분\n",
        "- python에서는 소스코드를 실행할 때 #을 만나면 무시\n",
        "- 개발자(사람)이 보기 위한 용도로 사용한다."
      ]
    },
    {
      "cell_type": "code",
      "metadata": {
        "id": "ZJfQaGUJdF8w"
      },
      "source": [
        "# this line os very important                       (?)\n",
        "# so don't delete these line\n",
        "math = 76"
      ],
      "execution_count": null,
      "outputs": []
    },
    {
      "cell_type": "markdown",
      "metadata": {
        "id": "-Wh2IWe2d5m6"
      },
      "source": [
        ""
      ]
    },
    {
      "cell_type": "markdown",
      "metadata": {
        "id": "yT4MuGR9d7OY"
      },
      "source": [
        " ## **변수 값 확인법**\n",
        "- print() 함수 사용\n",
        "- 코드에 마지막에 변수 값을 위치시킨후 실행"
      ]
    },
    {
      "cell_type": "code",
      "metadata": {
        "colab": {
          "base_uri": "https://localhost:8080/"
        },
        "id": "CgR-O-42ec7i",
        "outputId": "6b81fb10-dc64-424c-ae1b-b7723b59f6b8"
      },
      "source": [
        "a = 10\n",
        "b = 11.4\n",
        "a\n",
        "b"
      ],
      "execution_count": null,
      "outputs": [
        {
          "output_type": "execute_result",
          "data": {
            "text/plain": [
              "11.4"
            ]
          },
          "metadata": {},
          "execution_count": 7
        }
      ]
    },
    {
      "cell_type": "code",
      "metadata": {
        "colab": {
          "base_uri": "https://localhost:8080/"
        },
        "id": "vxFODv3ueplS",
        "outputId": "b1d9e3c6-6b59-465d-9660-4955a09bcd17"
      },
      "source": [
        "a = 10\n",
        "b = 11.4\n",
        "a\n",
        "b\n",
        "print(a)\n",
        "print(a,b)\n",
        "b"
      ],
      "execution_count": null,
      "outputs": [
        {
          "output_type": "stream",
          "text": [
            "10\n",
            "10 11.4\n"
          ],
          "name": "stdout"
        },
        {
          "output_type": "execute_result",
          "data": {
            "text/plain": [
              "11.4"
            ]
          },
          "metadata": {},
          "execution_count": 10
        }
      ]
    },
    {
      "cell_type": "markdown",
      "metadata": {
        "id": "yKl3k45cgPni"
      },
      "source": [
        "## **print 함수**\n",
        "- 함수란 특정 기능을 반복적으로 호출하며\n",
        "사용가능한 코드를 출력\n",
        "- ,로 여러 변수를 한줄에 출력\n",
        "- 기본적으로 한칸 띄어쓰기 후 출력"
      ]
    },
    {
      "cell_type": "code",
      "metadata": {
        "colab": {
          "base_uri": "https://localhost:8080/"
        },
        "id": "DT3Tvm9ZgsNT",
        "outputId": "15f08c89-904c-41fd-cbb8-e8f29f9cec20"
      },
      "source": [
        "print(a,b)\n",
        "print( a, 10, 200, b)\n",
        "print('집가고싶다')"
      ],
      "execution_count": null,
      "outputs": [
        {
          "output_type": "stream",
          "text": [
            "10 11.4\n",
            "10 10 200 11.4\n",
            "집가고싶다\n"
          ],
          "name": "stdout"
        }
      ]
    },
    {
      "cell_type": "markdown",
      "metadata": {
        "id": "E4S49xa5hFZK"
      },
      "source": [
        "**print 함수 설정**\n",
        "- sep(구분자): 각 변수 사이에서 구분해주는 역할\n",
        "- end: 마지막에 출력할 문자열"
      ]
    },
    {
      "cell_type": "code",
      "metadata": {
        "colab": {
          "base_uri": "https://localhost:8080/"
        },
        "id": "yuhgofixhns0",
        "outputId": "b43654b6-51d1-4985-93e5-671f70f3a088"
      },
      "source": [
        "print (a,b, 200, '문어', sep ='#', end ='11' )"
      ],
      "execution_count": null,
      "outputs": [
        {
          "output_type": "stream",
          "text": [
            "10#11.4#200#문어11"
          ],
          "name": "stdout"
        }
      ]
    },
    {
      "cell_type": "markdown",
      "metadata": {
        "id": "3Y4dREdj2ia3"
      },
      "source": [
        "##**변수 이름 규칙**\n",
        "- 시작을 인문 대소문자._ 구성 가능\n",
        "- 일반적으로 변수를 표현 할 때 정확하고 간견한 이름을 \n",
        "사용하는 것이 원칙  "
      ]
    },
    {
      "cell_type": "code",
      "metadata": {
        "id": "qLval89S3Q63"
      },
      "source": [
        "abcABC = 1000\n",
        "___abc = 100\n",
        "ACBV = 100\n",
        "\n",
        "###4ever = 10 "
      ],
      "execution_count": 2,
      "outputs": []
    },
    {
      "cell_type": "markdown",
      "metadata": {
        "id": "3RgJ8F313n5R"
      },
      "source": [
        "###**예약어(키워드)**\n",
        "- python에서 미리 선정해서 사용중인 키워드\n",
        "- import, for, while, if, elif 등\n",
        " "
      ]
    },
    {
      "cell_type": "code",
      "metadata": {
        "id": "c_k2Uo6B4BNf"
      },
      "source": [
        "_for = 100\n",
        "###for = 120\n"
      ],
      "execution_count": 4,
      "outputs": []
    },
    {
      "cell_type": "markdown",
      "metadata": {
        "id": "ilcqXQkf4Jbo"
      },
      "source": [
        "##**기본 데이터 타입**\n",
        "- 정수(int)\n",
        "- 실수(fioat)\n",
        "- 문자열(str)\n",
        "- 불리연(boolean)\n",
        "\n",
        "- type() 함수\n",
        "  - 해당 변수, 값의 타입(type)을 알고자 할 때 사용\n"
      ]
    },
    {
      "cell_type": "code",
      "metadata": {
        "colab": {
          "base_uri": "https://localhost:8080/"
        },
        "id": "e-rSLH6u4kLX",
        "outputId": "0dfb7d17-e6fa-4e36-efc6-0597c1c17698"
      },
      "source": [
        "a = 100\n",
        "type(a)\n",
        "b = 11.4\n",
        "c = '오늘은 비가 와요'\n",
        "d = a>b\n",
        "\n",
        "print(type(a),a, type(b),b, type(c), c, type(d), d)"
      ],
      "execution_count": 7,
      "outputs": [
        {
          "output_type": "stream",
          "text": [
            "<class 'int'> 100 <class 'float'> 11.4 <class 'str'> 오늘은 비가 와요 <class 'bool'> True\n"
          ],
          "name": "stdout"
        }
      ]
    },
    {
      "cell_type": "markdown",
      "metadata": {
        "id": "FiVvuH_p6b5Z"
      },
      "source": [
        "###*None*\n",
        "- 아무런 값을 갖지 않을때 사용\n",
        "- 일반적으로 변수가 조기값을 갖지 않게 하기 위해 사용\n",
        "- NULL과 같은 의미\n"
      ]
    },
    {
      "cell_type": "code",
      "metadata": {
        "colab": {
          "base_uri": "https://localhost:8080/"
        },
        "id": "wmoNefTf7P0Q",
        "outputId": "919afc89-8e61-4c1a-9403-4131f2536774"
      },
      "source": [
        "c = None\n",
        "print(c)"
      ],
      "execution_count": 9,
      "outputs": [
        {
          "output_type": "stream",
          "text": [
            "None\n"
          ],
          "name": "stdout"
        }
      ]
    },
    {
      "cell_type": "markdown",
      "metadata": {
        "id": "Zv7Y2GA_7Z5q"
      },
      "source": [
        "##**비교연산자**\n",
        "- 프로그래밍에서 비교를 할경우 사용한다.\n",
        "- >,< (작다, 크다)\n",
        "- <=,>= (작거나 같다, 크거나 같다.)\n",
        "- == (같다.)\n",
        "- != (같지않다)\n",
        "- 비교 연산자 결과는 bool(참과 거짓)"
      ]
    },
    {
      "cell_type": "code",
      "metadata": {
        "colab": {
          "base_uri": "https://localhost:8080/"
        },
        "id": "GBKVj3ef8OsR",
        "outputId": "c315710e-0358-44aa-dd33-2f29fca243e8"
      },
      "source": [
        "a = 5\n",
        "b = 4\n",
        "\n",
        "print(a>b) #True\n",
        "print(a<b) #False\n",
        "print(a>=b) #True\n",
        "print(a<=b) #False\n",
        "print(a!=b) #True\n",
        "print(a==b) #False "
      ],
      "execution_count": 11,
      "outputs": [
        {
          "output_type": "stream",
          "text": [
            "True\n",
            "False\n",
            "True\n",
            "False\n",
            "True\n",
            "False\n"
          ],
          "name": "stdout"
        }
      ]
    },
    {
      "cell_type": "markdown",
      "metadata": {
        "id": "2OJ9jKBgBJmg"
      },
      "source": [
        "## **기본 연산자**\n",
        "\n"
      ]
    },
    {
      "cell_type": "code",
      "metadata": {
        "colab": {
          "base_uri": "https://localhost:8080/"
        },
        "id": "qmWY5dGjBS3Q",
        "outputId": "be69d614-25a9-4646-89a6-bf9fb7527210"
      },
      "source": [
        "print(a+b) #a=5 b=4\n",
        "print(a-b)\n",
        "print(a*b)\n",
        "print(a/b)\n",
        "print(a%b)\n",
        "print(a**b) #5의 제곱 ** 제곱\n"
      ],
      "execution_count": 12,
      "outputs": [
        {
          "output_type": "stream",
          "text": [
            "9\n",
            "1\n",
            "20\n",
            "1.25\n",
            "1\n",
            "625\n"
          ],
          "name": "stdout"
        }
      ]
    },
    {
      "cell_type": "code",
      "metadata": {
        "id": "ZaBgNBgNB4iP"
      },
      "source": [
        ""
      ],
      "execution_count": null,
      "outputs": []
    },
    {
      "cell_type": "markdown",
      "metadata": {
        "id": "Ev9lMSjnCP4C"
      },
      "source": [
        "##**연산자 우선순위**\n",
        "- 기본적으로 수학의 연산자와 동일\n",
        "- 강제로 연산을 먼저하기 위해서 ()를 사용"
      ]
    },
    {
      "cell_type": "code",
      "metadata": {
        "colab": {
          "base_uri": "https://localhost:8080/"
        },
        "id": "IcCyNjGRCcE8",
        "outputId": "e4caa8ab-2d27-4076-b2c9-e8189fb49fca"
      },
      "source": [
        "print(a+b*2) #a=5 b=4\n",
        "print((a+b)*2)\n",
        "print(2*a**3)\n"
      ],
      "execution_count": 14,
      "outputs": [
        {
          "output_type": "stream",
          "text": [
            "13\n",
            "18\n",
            "250\n"
          ],
          "name": "stdout"
        }
      ]
    }
  ]
}